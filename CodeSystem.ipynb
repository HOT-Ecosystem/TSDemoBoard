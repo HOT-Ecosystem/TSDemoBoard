{
 "cells": [
  {
   "cell_type": "markdown",
   "id": "266cc6d5",
   "metadata": {},
   "source": [
    "# Demo Notebook - CodeSystem"
   ]
  },
  {
   "cell_type": "code",
   "execution_count": 34,
   "id": "3c144a36-117c-42a0-9109-df73433e8267",
   "metadata": {
    "scrolled": false
   },
   "outputs": [],
   "source": [
    "PHENOP=\"http://localhost:8088/fhir\" # Jupyter uses 8888!!\n",
    "\n",
    "import httpx\n",
    "import json\n",
    "from IPython.display import display, HTML\n",
    "\n",
    "client = httpx.Client()\n",
    "request_headers = {\n",
    "    \"Content-Type\" : \"application/fhir+json; charset=UTF-8\",\n",
    "    \"Accept-Charset\" : \"utf-8\",\n",
    "    \"User-Agent\" : \"HAPI-FHIR/5.0.0 (FHIR Client; FHIR 4.0.1/R4; apache)\" }\n",
    "\n",
    "def do_hapi_request(internal_path, in_params):\n",
    "    rq = httpx.Request(\"GET\", PHENOP + internal_path,\n",
    "               params = in_params,  headers=request_headers)\n",
    "    print(rq.url)\n",
    "    response = client.send(rq)\n",
    "    return response\n",
    "    \n",
    "def decode_status(response):\n",
    "    if response is None:\n",
    "        print(\"NO RESPONSE\")\n",
    "        return(True)\n",
    "    else:\n",
    "        if (response.status_code >= 200 and response.status_code < 300):\n",
    "            return(False)\n",
    "        elif (response.status_code >= 400 and response.status_code < 500):\n",
    "            return(True)\n",
    "        elif (response.status_code >= 500) :\n",
    "            return(True)\n",
    "\n",
    "def decode_code_system_json(response):\n",
    "    if not decode_status(response) :\n",
    "        response_dict = json.loads(response.text)\n",
    "        if ('entry' in response_dict):\n",
    "            print(\"title:\" + response_dict['entry'][0]['resource']['title'])\n",
    "            print(\"resourceType:\", response_dict['entry'][0]['resource']['resourceType'],\n",
    "                 end=\"  \")\n",
    "            print(\"id: \" + response_dict['entry'][0]['resource']['id'])\n",
    "            print(\"url: \" + response_dict['entry'][0]['resource']['url'])\n",
    "            print(\"full url: \" + response_dict['entry'][0]['fullUrl'])\n",
    "            if len(response_dict['entry']) > 1 :\n",
    "                print(\"identifier system:\\\"\" + response_dict['entry'][1]['resource']['identifier'][0]['system'],\n",
    "                      end=\"\\\",  \")\n",
    "                print(\"value: \\\"\" + response_dict['entry'][1]['resource']['identifier'][0]['value'] + \"\\\"\")\n",
    "            else:\n",
    "                print(\"?? no 2nd entry for resource identifier\")\n",
    "        else:\n",
    "            print(\"Not Present\")\n",
    "        print(\"\")  \n",
    "\n",
    "def decode_validate_response(repsonse) :\n",
    "    print(response)\n",
    "    if False:\n",
    "        print(response.keys())\n",
    "        print(response['issue']['severity'])\n",
    "        print(response['issue']['response'])\n",
    "        display(HTML(response['text']['div']))\n",
    "        print(\"\")\n",
    "        \n",
    "def decode_lookup_response(response):\n",
    "    if (not decode_status(response)) :\n",
    "        response_dict = json.loads(response.text)\n",
    "        for p in response_dict['parameter']:\n",
    "            if p['name'] != 'property' and p['name'] != 'designation':\n",
    "                if 'valueString' in p:\n",
    "                    print(p['name'], \":\", p['valueString'], sep=\"\", end=\", \")\n",
    "                if 'valueBoolean' in p:\n",
    "                    print(p['name'], \":\", p['valueBoolean'], sep=\"\", end=\", \")\n",
    "        print(\"\")\n",
    "    else:\n",
    "        print(\"error\")\n",
    "    print(\"\")"
   ]
  },
  {
   "cell_type": "markdown",
   "id": "a9ebc889",
   "metadata": {},
   "source": [
    "## CodeSystem Search\n",
    "List code systems \n",
    "(where's Loinc?)"
   ]
  },
  {
   "cell_type": "code",
   "execution_count": 41,
   "id": "8add4061",
   "metadata": {},
   "outputs": [
    {
     "name": "stdout",
     "output_type": "stream",
     "text": [
      "http://localhost:8088/fhir/CodeSystem/\n",
      "American Dental Association Area of Oral Cavity System\n",
      "ADAAreaOralCavitySystem\n",
      "http://localhost:8088/fhir/CodeSystem/ADAAreaOralCavitySystem\n",
      "http://terminology.hl7.org/CodeSystem/ADAAreaOralCavitySystem\n",
      "\n",
      "ADA Universal Tooth Designation System\n",
      "ADAUniversalToothDesignationSystem\n",
      "http://localhost:8088/fhir/CodeSystem/ADAUniversalToothDesignationSystem\n",
      "http://terminology.hl7.org/CodeSystem/ADAUniversalToothDesignationSystem\n",
      "\n",
      "AHA NUBC Patient Discharge Status Codes\n",
      "AHANUBCPatientDischargeStatus\n",
      "http://localhost:8088/fhir/CodeSystem/AHANUBCPatientDischargeStatus\n",
      "https://www.nubc.org/CodeSystem/PatDischargeStatus\n",
      "\n",
      "AHA NUBC Point of Origin for Newborn\n",
      "AHANUBCPointOfOriginNewborn\n",
      "http://localhost:8088/fhir/CodeSystem/AHANUBCPointOfOriginNewborn\n",
      "https://www.nubc.org/CodeSystem/PointOfOriginNewborn\n",
      "\n",
      "AHA NUBC Point of Origin for Non-newborn\n",
      "AHANUBCPointOfOriginNonnewborn\n",
      "http://localhost:8088/fhir/CodeSystem/AHANUBCPointOfOriginNonnewborn\n",
      "https://www.nubc.org/CodeSystem/PointOfOrigin\n",
      "\n",
      "AHA NUBC Priority (Type) of Admission or Visit\n",
      "AHANUBCPriorityTypeOfAdmitOrVisit\n",
      "http://localhost:8088/fhir/CodeSystem/AHANUBCPriorityTypeOfAdmitOrVisit\n",
      "https://www.nubc.org/CodeSystem/PriorityTypeOfAdmitOrVisit\n",
      "\n",
      "AHA NUBC Revenue Codes\n",
      "AHANUBCRevenueCodes\n",
      "http://localhost:8088/fhir/CodeSystem/AHANUBCRevenueCodes\n",
      "https://www.nubc.org/CodeSystem/RevenueCodes\n",
      "\n",
      "AHA NUBC Type Of Bill Codes\n",
      "AHANUBCTypeOfBill\n",
      "http://localhost:8088/fhir/CodeSystem/AHANUBCTypeOfBill\n",
      "https://www.nubc.org/CodeSystem/TypeOfBill\n",
      "\n",
      "All Patient Diagnosis Related Groups (AP DRGs)\n",
      "APDRG\n",
      "http://localhost:8088/fhir/CodeSystem/APDRG\n",
      "http://uri.hddaccess.com/cs/apdrg\n",
      "\n",
      "All Patient Refined Diagnosis Related Groups (APR DRGs)\n",
      "APRDRG\n",
      "http://localhost:8088/fhir/CodeSystem/APRDRG\n",
      "http://uri.hddaccess.com/cs/aprdrg\n",
      "\n",
      "College of American Pathologists (CAP) eCC (electronic Cancer Checklists)\n",
      "CAPeCC\n",
      "http://localhost:8088/fhir/CodeSystem/CAPeCC\n",
      "http://cap.org/eCC\n",
      "\n",
      "Clinical Care Classification System\n",
      "CCC\n",
      "http://localhost:8088/fhir/CodeSystem/CCC\n",
      "http://terminology.hl7.org/CodeSystem/CCC\n",
      "\n",
      "NHSN Surveillance System Codes\n",
      "CDCNHSN\n",
      "http://localhost:8088/fhir/CodeSystem/CDCNHSN\n",
      "https://www.cdc.gov/nhsn/cdaportal/terminology/codesystem/cdcnhsn.html\n",
      "\n",
      "CDC Race and Ethnicity\n",
      "CDCREC\n",
      "http://localhost:8088/fhir/CodeSystem/CDCREC\n",
      "urn:oid:2.16.840.1.113883.6.238\n",
      "\n",
      "Code on Dental Procedures and Nomenclature\n",
      "CDT\n",
      "http://localhost:8088/fhir/CodeSystem/CDT\n",
      "http://www.ada.org/cdt\n",
      "\n",
      "CMS Place of Service Codes (POS)\n",
      "CMSPlaceofServiceCodes\n",
      "http://localhost:8088/fhir/CodeSystem/CMSPlaceofServiceCodes\n",
      "https://www.cms.gov/Medicare/Coding/place-of-service-codes/Place_of_Service_Code_Set\n",
      "\n",
      "Current Procedural Terminology (CPT®)\n",
      "CPT\n",
      "http://localhost:8088/fhir/CodeSystem/CPT\n",
      "http://www.ama-assn.org/go/cpt\n",
      "\n",
      "Vaccine Administered Code Set (CVX)\n",
      "CVX\n",
      "http://localhost:8088/fhir/CodeSystem/CVX\n",
      "http://hl7.org/fhir/sid/cvx\n",
      "\n",
      "ClinVar Variant ID\n",
      "ClinVarV\n",
      "http://localhost:8088/fhir/CodeSystem/ClinVarV\n",
      "http://www.ncbi.nlm.nih.gov/clinvar\n",
      "\n",
      "Global Medical Device Nomenclature\n",
      "GMDN\n",
      "http://localhost:8088/fhir/CodeSystem/GMDN\n",
      "http://terminology.hl7.org/CodeSystem/GMDN\n",
      "\n"
     ]
    }
   ],
   "source": [
    "response = do_hapi_request(\"/CodeSystem/\", {})    \n",
    "if (not decode_status(response)) :\n",
    "    response_dict = json.loads(response.text)\n",
    "    for vocab_entry in response_dict['entry']:\n",
    "        print(vocab_entry['resource']['title'])\n",
    "        print(vocab_entry['resource']['id'])\n",
    "        print(vocab_entry['fullUrl'])\n",
    "        print(vocab_entry['resource']['url'])\n",
    "        print(\"\")"
   ]
  },
  {
   "cell_type": "markdown",
   "id": "ad5dd31c",
   "metadata": {},
   "source": [
    "## CodeSystem search \n",
    "https://hl7.org/fhir/http.html#search "
   ]
  },
  {
   "cell_type": "code",
   "execution_count": 21,
   "id": "61627370",
   "metadata": {},
   "outputs": [
    {
     "name": "stdout",
     "output_type": "stream",
     "text": [
      "http://localhost:8088/fhir/CodeSystem/?system=http%3A%2F%2Floinc.org\n",
      "title:Logical Observation Identifiers, Names and Codes (LOINC)\n",
      "resourceType: CodeSystem  id: v3-loinc\n",
      "url: http://loinc.org\n",
      "full url: http://localhost:8088/fhir/CodeSystem/v3-loinc\n",
      "identifier system:\"urn:ietf:rfc:3986\",  value: \"urn:oid:2.16.840.1.113883.6.1\"\n",
      "\n"
     ]
    }
   ],
   "source": [
    "response = do_hapi_request(\"/CodeSystem/\", {\n",
    "    'system' : 'http://loinc.org'})    \n",
    "if (not decode_status(response)) :\n",
    "    decode_code_system_json(response)"
   ]
  },
  {
   "cell_type": "code",
   "execution_count": 22,
   "id": "78d0fd89",
   "metadata": {},
   "outputs": [
    {
     "name": "stdout",
     "output_type": "stream",
     "text": [
      "http://localhost:8088/fhir/CodeSystem/?system=v3-loinc\n",
      "Not Present\n",
      "\n",
      "<Response [200 OK]>\n"
     ]
    }
   ],
   "source": [
    "# fails\n",
    "response = do_hapi_request(\"/CodeSystem/\", {\n",
    "    'system' : 'v3-loinc'})\n",
    "if (not decode_status(response)) :\n",
    "    decode_code_system_json(response)\n",
    "    print(response)"
   ]
  },
  {
   "cell_type": "code",
   "execution_count": 24,
   "id": "be12194e",
   "metadata": {},
   "outputs": [
    {
     "name": "stdout",
     "output_type": "stream",
     "text": [
      "http://localhost:8088/fhir/CodeSystem/?system=http%3A%2F%2Fsnomed.org\n",
      "Not Present\n",
      "\n"
     ]
    }
   ],
   "source": [
    "response = do_hapi_request(\"/CodeSystem/\", {'system' : 'http://snomed.org'}) \n",
    "decode_code_system_json(response)"
   ]
  },
  {
   "cell_type": "code",
   "execution_count": 25,
   "id": "ac88b72c",
   "metadata": {},
   "outputs": [
    {
     "name": "stdout",
     "output_type": "stream",
     "text": [
      "http://localhost:8088/fhir/CodeSystem/?system=http%3A%2F%2Fwww.ama-assn.org%2Fgo%2Fcpt\n",
      "title:Current Procedural Terminology (CPT®)\n",
      "resourceType: CodeSystem  id: CPT\n",
      "url: http://www.ama-assn.org/go/cpt\n",
      "full url: http://localhost:8088/fhir/CodeSystem/CPT\n",
      "?? no 2nd entry for resource identifier\n",
      "\n"
     ]
    }
   ],
   "source": [
    "response = do_hapi_request(\"/CodeSystem/\", {'system' : 'http://www.ama-assn.org/go/cpt'}) \n",
    "decode_code_system_json(response)"
   ]
  },
  {
   "cell_type": "code",
   "execution_count": 26,
   "id": "7232505b",
   "metadata": {},
   "outputs": [
    {
     "name": "stdout",
     "output_type": "stream",
     "text": [
      "http://localhost:8088/fhir/CodeSystem/?system=http%3A%2F%2Fhpo.org\n",
      "Not Present\n",
      "\n"
     ]
    }
   ],
   "source": [
    "response = do_hapi_request(\"/CodeSystem/\", {'system' : 'http://hpo.org'}) \n",
    "decode_code_system_json(response)"
   ]
  },
  {
   "cell_type": "code",
   "execution_count": 27,
   "id": "99921509",
   "metadata": {},
   "outputs": [
    {
     "name": "stdout",
     "output_type": "stream",
     "text": [
      "http://localhost:8088/fhir/CodeSystem/?system=http%3A%2F%2FICD10CM.org\n",
      "Not Present\n",
      "\n"
     ]
    }
   ],
   "source": [
    "response = do_hapi_request(\"/CodeSystem/\", {'system' : 'http://ICD10CM.org'}) \n",
    "decode_code_system_json(response)"
   ]
  },
  {
   "cell_type": "markdown",
   "id": "1ec9f286",
   "metadata": {},
   "source": [
    "## CodeSystem $validate-code "
   ]
  },
  {
   "cell_type": "code",
   "execution_count": 42,
   "id": "a7f9ac11",
   "metadata": {},
   "outputs": [
    {
     "name": "stdout",
     "output_type": "stream",
     "text": [
      "http://localhost:8088/fhir/CodeSystem/v3-loinc/$validate-code?code=69551-0\n",
      "<Response [200 OK]>\n"
     ]
    }
   ],
   "source": [
    "response = do_hapi_request(\"/CodeSystem/v3-loinc/$validate-code\", {\n",
    "    'code' : '69551-0'})\n",
    "if (not decode_status(response)) :\n",
    "    response_dict = json.loads(response.text)\n",
    "    decode_validate_response(response_dict)"
   ]
  },
  {
   "cell_type": "code",
   "execution_count": 58,
   "id": "5031812c",
   "metadata": {},
   "outputs": [
    {
     "name": "stdout",
     "output_type": "stream",
     "text": [
      "http://localhost:8088/fhir/CodeSystem/v3-loinc/$validate-code?codeSystem=http%3A%2F%2Floinc.org&code=69551-0\n",
      "<Response [200 OK]>\n"
     ]
    }
   ],
   "source": [
    "response = do_hapi_request(\"/CodeSystem/v3-loinc/$validate-code\", {\n",
    "    'codeSystem' : 'http://loinc.org',\n",
    "    'code' : '69551-0'})\n",
    "if (not decode_status(response)) :\n",
    "    response_dict = json.loads(response.text)\n",
    "    decode_validate_response(response_dict)\n",
    "else:\n",
    "    print(response, end=\"\\n\\n\")"
   ]
  },
  {
   "cell_type": "code",
   "execution_count": 49,
   "id": "8c342b97",
   "metadata": {},
   "outputs": [
    {
     "name": "stdout",
     "output_type": "stream",
     "text": [
      "http://localhost:8088/fhir/CodeSystem/v3-loinc/$validate-code?code=LA6668-3\n",
      "<Response [200 OK]>\n"
     ]
    }
   ],
   "source": [
    "response = do_hapi_request(\"/CodeSystem/v3-loinc/$validate-code\", {\n",
    "    'code' : 'LA6668-3'})\n",
    "if (not decode_status(response)) :\n",
    "    response_dict = json.loads(response.text)\n",
    "    decode_validate_response(response_dict)\n",
    "else:\n",
    "    print(response, end=\"\\n\\n\")"
   ]
  },
  {
   "cell_type": "code",
   "execution_count": 50,
   "id": "9d3f1ce3",
   "metadata": {},
   "outputs": [
    {
     "name": "stdout",
     "output_type": "stream",
     "text": [
      "http://localhost:8088/fhir/CodeSystem/$validate-code/?codeSystem=http%3A%2F%2Floinc.org&code=69551-0\n",
      "<Response [400 Bad Request]>\n",
      "\n"
     ]
    }
   ],
   "source": [
    "response = do_hapi_request(\"/CodeSystem/$validate-code/\", {\n",
    "    'codeSystem' : 'http://loinc.org',\n",
    "    'code' : '69551-0'})\n",
    "if (not decode_status(response)) :\n",
    "    response_dict = json.loads(response.text)\n",
    "    decode_validate_response(response_dict)\n",
    "else:\n",
    "    print(response, end=\"\\n\\n\")"
   ]
  },
  {
   "cell_type": "code",
   "execution_count": 51,
   "id": "6d4ee79f",
   "metadata": {},
   "outputs": [
    {
     "name": "stdout",
     "output_type": "stream",
     "text": [
      "http://localhost:8088/fhir/CodeSystem/$validate-code/?codeSystem=v3-loinc&code=69551-0\n",
      "<Response [400 Bad Request]>\n",
      "\n"
     ]
    }
   ],
   "source": [
    "# with codeSystem parameter only, fails\n",
    "response = do_hapi_request(\"/CodeSystem/$validate-code/\", {\n",
    "    'codeSystem' : 'v3-loinc',\n",
    "    'code' : '69551-0'}) \n",
    "if (not decode_status(response)) :\n",
    "    response_dict = json.loads(response.text)\n",
    "    decode_validate_response(response_dict)\n",
    "else:\n",
    "    print(response, end=\"\\n\\n\")"
   ]
  },
  {
   "cell_type": "markdown",
   "id": "7a19ef0f",
   "metadata": {},
   "source": [
    "## CodeSystem $lookup "
   ]
  },
  {
   "cell_type": "code",
   "execution_count": 52,
   "id": "bd6f2b99",
   "metadata": {},
   "outputs": [
    {
     "name": "stdout",
     "output_type": "stream",
     "text": [
      "http://localhost:8088/fhir/CodeSystem/$lookup?system=http%3A%2F%2Fbogus.org&code=LA6668-3\n",
      "error\n",
      "\n"
     ]
    }
   ],
   "source": [
    "response = do_hapi_request(\"/CodeSystem/$lookup\", {\n",
    "    'system' : 'http://bogus.org',\n",
    "    'code' : 'LA6668-3'})   \n",
    "decode_lookup_response(response)"
   ]
  },
  {
   "cell_type": "code",
   "execution_count": 53,
   "id": "e2d02642",
   "metadata": {},
   "outputs": [
    {
     "name": "stdout",
     "output_type": "stream",
     "text": [
      "http://localhost:8088/fhir/CodeSystem/$lookup?system=http%3A%2F%2Floinc.org&code=bogus\n",
      "error\n",
      "\n"
     ]
    }
   ],
   "source": [
    "response = do_hapi_request(\"/CodeSystem/$lookup\", {\n",
    "    'system' : 'http://loinc.org',\n",
    "    'code' : 'bogus'})   \n",
    "decode_lookup_response(response)"
   ]
  },
  {
   "cell_type": "code",
   "execution_count": 54,
   "id": "e87aea97",
   "metadata": {},
   "outputs": [
    {
     "name": "stdout",
     "output_type": "stream",
     "text": [
      "http://localhost:8088/fhir/CodeSystem/$lookup?system=http%3A%2F%2Floinc.org&code=LA6668-3\n",
      "name:LOINC, display:Pathogenic, abstract:False, \n",
      "\n"
     ]
    }
   ],
   "source": [
    "response = do_hapi_request(\"/CodeSystem/$lookup\", {\n",
    "    'system' : 'http://loinc.org',\n",
    "    'code' : 'LA6668-3'})   \n",
    "decode_lookup_response(response)"
   ]
  },
  {
   "cell_type": "code",
   "execution_count": 55,
   "id": "1693eec5",
   "metadata": {},
   "outputs": [
    {
     "name": "stdout",
     "output_type": "stream",
     "text": [
      "http://localhost:8088/fhir/CodeSystem/$lookup?system=http%3A%2F%2Floinc.org&code=LA9633-4\n",
      "name:LOINC, display:Present, abstract:False, \n",
      "\n"
     ]
    }
   ],
   "source": [
    "response = do_hapi_request(\"/CodeSystem/$lookup\", {\n",
    "    'system' : 'http://loinc.org',\n",
    "    'code' : 'LA9633-4'}) \n",
    "decode_lookup_response(response)"
   ]
  },
  {
   "cell_type": "code",
   "execution_count": 56,
   "id": "2455e14e",
   "metadata": {},
   "outputs": [
    {
     "name": "stdout",
     "output_type": "stream",
     "text": [
      "http://localhost:8088/fhir/CodeSystem/$lookup?system=http%3A%2F%2Floinc.org&code=69547-8\n",
      "name:LOINC, display:Genomic ref allele [ID], abstract:False, \n",
      "\n"
     ]
    }
   ],
   "source": [
    "response = do_hapi_request(\"/CodeSystem/$lookup\", {\n",
    "    'system' : 'http://loinc.org',\n",
    "    'code' : '69547-8'})\n",
    "decode_lookup_response(response)"
   ]
  },
  {
   "cell_type": "code",
   "execution_count": 57,
   "id": "818f2944",
   "metadata": {},
   "outputs": [
    {
     "name": "stdout",
     "output_type": "stream",
     "text": [
      "http://localhost:8088/fhir/CodeSystem/$lookup?system=http%3A%2F%2Floinc.org&code=69551-0\n",
      "name:LOINC, display:Genomic alt allele [ID], abstract:False, \n",
      "\n"
     ]
    }
   ],
   "source": [
    "response = do_hapi_request(\"/CodeSystem/$lookup\", {\n",
    "    'system' : 'http://loinc.org',\n",
    "    'code' : '69551-0'}) \n",
    "decode_lookup_response(response)"
   ]
  },
  {
   "cell_type": "markdown",
   "id": "1585aa46",
   "metadata": {},
   "source": [
    "## CodeSystem $subsumes "
   ]
  },
  {
   "cell_type": "code",
   "execution_count": null,
   "id": "3bcf8d5b",
   "metadata": {},
   "outputs": [],
   "source": [
    "\n",
    "# T B D\n"
   ]
  },
  {
   "cell_type": "markdown",
   "id": "bcd30601",
   "metadata": {},
   "source": [
    "# What else?\n",
    "- search for concept by name, or pattern\n",
    "- modify concept? (no)\n",
    "- hierarchy closure, synonym closure\n",
    "- more"
   ]
  }
 ],
 "metadata": {
  "kernelspec": {
   "display_name": "Python 3 (ipykernel)",
   "language": "python",
   "name": "python3"
  },
  "language_info": {
   "codemirror_mode": {
    "name": "ipython",
    "version": 3
   },
   "file_extension": ".py",
   "mimetype": "text/x-python",
   "name": "python",
   "nbconvert_exporter": "python",
   "pygments_lexer": "ipython3",
   "version": "3.9.6"
  }
 },
 "nbformat": 4,
 "nbformat_minor": 5
}
