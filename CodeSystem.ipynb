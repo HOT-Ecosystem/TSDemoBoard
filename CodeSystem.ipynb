{
 "cells": [
  {
   "cell_type": "markdown",
   "id": "266cc6d5",
   "metadata": {},
   "source": [
    "# Demo Notebook - CodeSystem"
   ]
  },
  {
   "cell_type": "code",
   "execution_count": 1,
   "id": "3c144a36-117c-42a0-9109-df73433e8267",
   "metadata": {
    "scrolled": false
   },
   "outputs": [],
   "source": [
    "#BASE_URL =\"http://localhost:8088/fhir/\" \n",
    "BASE_URL = \"http://20.119.216.32:8000/r4/\"  # JHU Azure TIMS server\n",
    "USE_CACHE = False\n",
    "\n",
    "from imports import TimsClient\n",
    "client = TimsClient(BASE_URL, USE_CACHE, False)\n",
    "#client = TimsClient(BASE_URL, False, True)"
   ]
  },
  {
   "cell_type": "markdown",
   "id": "a9ebc889",
   "metadata": {},
   "source": [
    "## CodeSystem Search\n",
    "https://hl7.org/fhir/http.html#search "
   ]
  },
  {
   "cell_type": "markdown",
   "id": "29e2c717",
   "metadata": {},
   "source": [
    "All code systems present:"
   ]
  },
  {
   "cell_type": "code",
   "execution_count": 2,
   "id": "8add4061",
   "metadata": {},
   "outputs": [
    {
     "name": "stdout",
     "output_type": "stream",
     "text": [
      "SNOMED CT, LOINC, ICD-10-CM, CPT4, http://purl.obolibrary.org/obo/mondo.owl, HPO\n"
     ]
    }
   ],
   "source": [
    "client.summarize_code_systems()"
   ]
  },
  {
   "cell_type": "markdown",
   "id": "ad5dd31c",
   "metadata": {},
   "source": [
    "Details of a single code system:"
   ]
  },
  {
   "cell_type": "code",
   "execution_count": 3,
   "id": "61627370",
   "metadata": {},
   "outputs": [
    {
     "name": "stdout",
     "output_type": "stream",
     "text": [
      "title: LOINC Code System\n",
      "resourceType:  CodeSystem  id: loinc\n",
      "url: http://loinc.org\n",
      "full url: http://20.119.216.32:8000/r4/CodeSystem/loinc\n",
      "identifier system: \"urn:ietf:rfc:3986\",  value: \"urn:oid:2.16.840.1.113883.6.1\"\n"
     ]
    }
   ],
   "source": [
    "client.summarize_code_system_by_name('LOINC')"
   ]
  },
  {
   "cell_type": "markdown",
   "id": "1ec9f286",
   "metadata": {},
   "source": [
    "## CodeSystem $validate-code \n",
    "Check if a code is in a code system."
   ]
  },
  {
   "cell_type": "code",
   "execution_count": 4,
   "id": "a7f9ac11",
   "metadata": {},
   "outputs": [
    {
     "name": "stdout",
     "output_type": "stream",
     "text": [
      "Genomic alt allele [ID]\n"
     ]
    }
   ],
   "source": [
    "client.validate_code(system_id='loinc', code='69551-0')"
   ]
  },
  {
   "cell_type": "markdown",
   "id": "7a19ef0f",
   "metadata": {},
   "source": [
    "## CodeSystem $lookup \n",
    "Details of a single term:"
   ]
  },
  {
   "cell_type": "code",
   "execution_count": 7,
   "id": "e87aea97",
   "metadata": {},
   "outputs": [
    {
     "name": "stdout",
     "output_type": "stream",
     "text": [
      "name:LOINC, display:Pathogenic, abstract:False, \n"
     ]
    }
   ],
   "source": [
    "client.lookup_code(system='http://loinc.org', code='LA6668-3')"
   ]
  },
  {
   "cell_type": "markdown",
   "id": "d20f220f",
   "metadata": {},
   "source": [
    "## CodeSystem ```$find-matches (Trial Use)```\n",
    "```[base]/CodeSyste/$fine-matches with system and property.code and property.value to search on.```\n",
    "\n",
    "Note the compositional flag which mentions post-coordinated expressions and SNOMED.\n",
    "Current understanding is that this does not allow for regex-style text search on the concept name."
   ]
  },
  {
   "cell_type": "code",
   "execution_count": null,
   "id": "57ac63c9",
   "metadata": {},
   "outputs": [],
   "source": [
    "# TODO"
   ]
  },
  {
   "cell_type": "markdown",
   "id": "1585aa46",
   "metadata": {},
   "source": [
    "## CodeSystem $subsumes\n",
    "Check whether a term is subsumed by another term."
   ]
  },
  {
   "cell_type": "code",
   "execution_count": 6,
   "id": "3bcf8d5b",
   "metadata": {},
   "outputs": [],
   "source": [
    "# TODO"
   ]
  },
  {
   "cell_type": "markdown",
   "id": "bcd30601",
   "metadata": {},
   "source": [
    "# What else?\n",
    "- search for concept by name, or pattern\n",
    "- modify concept? (no)\n",
    "- hierarchy closure, synonym closure\n",
    "- more"
   ]
  },
  {
   "cell_type": "code",
   "execution_count": null,
   "id": "c09506ef",
   "metadata": {},
   "outputs": [],
   "source": []
  },
  {
   "cell_type": "code",
   "execution_count": null,
   "id": "13095040",
   "metadata": {},
   "outputs": [],
   "source": []
  }
 ],
 "metadata": {
  "kernelspec": {
   "display_name": "Python 3 (ipykernel)",
   "language": "python",
   "name": "python3"
  },
  "language_info": {
   "codemirror_mode": {
    "name": "ipython",
    "version": 3
   },
   "file_extension": ".py",
   "mimetype": "text/x-python",
   "name": "python",
   "nbconvert_exporter": "python",
   "pygments_lexer": "ipython3",
   "version": "3.9.6"
  }
 },
 "nbformat": 4,
 "nbformat_minor": 5
}
