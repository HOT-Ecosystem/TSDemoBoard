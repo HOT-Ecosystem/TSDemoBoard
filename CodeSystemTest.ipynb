{
 "cells": [
  {
   "cell_type": "markdown",
   "id": "266cc6d5",
   "metadata": {},
   "source": [
    "# Demo Notebook - CodeSystem\n",
    "Some code to set up the notebook:"
   ]
  },
  {
   "cell_type": "code",
   "execution_count": 1,
   "id": "3c144a36-117c-42a0-9109-df73433e8267",
   "metadata": {
    "scrolled": false
   },
   "outputs": [],
   "source": [
    "#BASE_URL =\"http://localhost:8088/fhir\"  # Jupyter uses 8888!!\n",
    "BASE_URL = \"http://20.119.216.32:8000/r4/\"  # TIMS server\n",
    "\n",
    "from imports import TimsClient\n",
    "client = TimsClient(BASE_URL, False, True)"
   ]
  },
  {
   "cell_type": "markdown",
   "id": "a9ebc889",
   "metadata": {},
   "source": [
    "## CodeSystem Search"
   ]
  },
  {
   "cell_type": "code",
   "execution_count": 2,
   "id": "8add4061",
   "metadata": {},
   "outputs": [
    {
     "name": "stdout",
     "output_type": "stream",
     "text": [
      "GETTING\n",
      "http://20.119.216.32:8000/r4/CodeSystem?_summary=true\n",
      "SENDING\n",
      "HTTP STATUS OK 200\n",
      "SNOMED CT, LOINC, ICD-10-CM, CPT4, http://purl.obolibrary.org/obo/mondo.owl, HPO\n"
     ]
    }
   ],
   "source": [
    "client.summarize_code_systems()"
   ]
  },
  {
   "cell_type": "code",
   "execution_count": 3,
   "id": "61627370",
   "metadata": {
    "scrolled": true
   },
   "outputs": [
    {
     "name": "stdout",
     "output_type": "stream",
     "text": [
      "GETTING\n",
      "http://20.119.216.32:8000/r4/CodeSystem?name=LOINC\n",
      "SENDING\n",
      "HTTP STATUS OK 200\n",
      "name: LOINC\n",
      "title: LOINC Code System\n",
      "resourceType:  CodeSystem  id: loinc\n",
      "url: http://loinc.org\n",
      "full url: http://20.119.216.32:8000/r4/CodeSystem/loinc\n",
      "identifier system: \"urn:ietf:rfc:3986\",  value: \"urn:oid:2.16.840.1.113883.6.1\"\n"
     ]
    }
   ],
   "source": [
    "client.summarize_code_system_by_name('LOINC')"
   ]
  },
  {
   "cell_type": "code",
   "execution_count": 4,
   "id": "4ec34a7f",
   "metadata": {},
   "outputs": [
    {
     "name": "stdout",
     "output_type": "stream",
     "text": [
      "GETTING\n",
      "http://20.119.216.32:8000/r4/CodeSystem?system=http%3A%2F%2Floinc.org\n",
      "SENDING\n",
      "HTTP STATUS OK 200\n",
      "name: LOINC\n",
      "title: LOINC Code System\n",
      "resourceType:  CodeSystem  id: loinc\n",
      "url: http://loinc.org\n",
      "full url: http://20.119.216.32:8000/r4/CodeSystem/loinc\n",
      "identifier system: \"urn:ietf:rfc:3986\",  value: \"urn:oid:2.16.840.1.113883.6.1\"\n"
     ]
    }
   ],
   "source": [
    "client.summarize_code_system_by_system('http://loinc.org')"
   ]
  },
  {
   "cell_type": "code",
   "execution_count": 5,
   "id": "61c80eab",
   "metadata": {},
   "outputs": [
    {
     "name": "stdout",
     "output_type": "stream",
     "text": [
      "GETTING\n",
      "http://20.119.216.32:8000/r4/CodeSystem?name=SNOMED+CT\n",
      "SENDING\n",
      "HTTP STATUS OK 200\n",
      "name: SNOMED CT\n",
      "resourceType:  CodeSystem  id: 1\n",
      "url: http://snomed.info/sct\n",
      "full url: http://20.119.216.32:8000/r4/CodeSystem/1\n"
     ]
    }
   ],
   "source": [
    "client.summarize_code_system_by_name('SNOMED CT')"
   ]
  },
  {
   "cell_type": "code",
   "execution_count": 6,
   "id": "91b2bc79",
   "metadata": {},
   "outputs": [
    {
     "name": "stdout",
     "output_type": "stream",
     "text": [
      "GETTING\n",
      "http://20.119.216.32:8000/r4/CodeSystem?name=ICD-10-CM\n",
      "SENDING\n",
      "HTTP STATUS OK 200\n",
      "name: ICD-10-CM\n",
      "resourceType:  CodeSystem  id: 3\n",
      "url: http://hl7.org/fhir/sid/icd-10-cm\n",
      "full url: http://20.119.216.32:8000/r4/CodeSystem/3\n"
     ]
    }
   ],
   "source": [
    "client.summarize_code_system_by_name('ICD-10-CM')"
   ]
  },
  {
   "cell_type": "code",
   "execution_count": 7,
   "id": "a52f639f",
   "metadata": {},
   "outputs": [
    {
     "name": "stdout",
     "output_type": "stream",
     "text": [
      "GETTING\n",
      "http://20.119.216.32:8000/r4/CodeSystem?name=CPT4\n",
      "SENDING\n",
      "HTTP STATUS OK 200\n",
      "name: CPT4\n",
      "resourceType:  CodeSystem  id: CPT4-2021.Release\n",
      "url: http://hl7.org/fhir/CodeSystem/CPT4-2021 Release\n",
      "full url: http://20.119.216.32:8000/r4/CodeSystem/CPT4-2021.Release\n"
     ]
    }
   ],
   "source": [
    "client.summarize_code_system_by_name('CPT4')"
   ]
  },
  {
   "cell_type": "code",
   "execution_count": 8,
   "id": "a399ff27",
   "metadata": {},
   "outputs": [
    {
     "name": "stdout",
     "output_type": "stream",
     "text": [
      "GETTING\n",
      "http://20.119.216.32:8000/r4/CodeSystem?name=HPO\n",
      "SENDING\n",
      "HTTP STATUS OK 200\n",
      "name: HPO\n",
      "title: Human Phenotype Ontology Coding\n",
      "resourceType:  CodeSystem  id: 11194\n",
      "url: http://purl.obolibrary.org/obo/hp.fhir\n",
      "full url: http://20.119.216.32:8000/r4/CodeSystem/11194\n"
     ]
    }
   ],
   "source": [
    "client.summarize_code_system_by_name('HPO')"
   ]
  },
  {
   "cell_type": "markdown",
   "id": "1ec9f286",
   "metadata": {},
   "source": [
    "## CodeSystem $validate-code "
   ]
  },
  {
   "cell_type": "code",
   "execution_count": 9,
   "id": "a7f9ac11",
   "metadata": {},
   "outputs": [
    {
     "name": "stdout",
     "output_type": "stream",
     "text": [
      "GETTING\n",
      "http://20.119.216.32:8000/r4/CodeSystem/loinc/$validate-code?code=69551-0\n",
      "SENDING\n",
      "HTTP STATUS OK 200\n",
      "Genomic alt allele [ID]\n"
     ]
    }
   ],
   "source": [
    "client.validate_code(system_id='loinc', code='69551-0')"
   ]
  },
  {
   "cell_type": "code",
   "execution_count": 10,
   "id": "6129631f",
   "metadata": {},
   "outputs": [
    {
     "name": "stdout",
     "output_type": "stream",
     "text": [
      "GETTING\n",
      "http://20.119.216.32:8000/r4/CodeSystem/$validate-code?codeSystem=http://loinc.org&code=69551-0\n",
      "SENDING\n",
      "error: 400\n"
     ]
    }
   ],
   "source": [
    "client.validate_code_2(system_id='http://loinc.org', code='69551-0') # NA"
   ]
  },
  {
   "cell_type": "code",
   "execution_count": 11,
   "id": "19d9100e",
   "metadata": {},
   "outputs": [
    {
     "name": "stdout",
     "output_type": "stream",
     "text": [
      "GETTING\n",
      "http://20.119.216.32:8000/r4/CodeSystem/v3-loinc/$validate-code?code=69551-0\n",
      "SENDING\n",
      "error: 404\n"
     ]
    }
   ],
   "source": [
    "client.validate_code(system_id='v3-loinc', code='69551-0') # works on local"
   ]
  },
  {
   "cell_type": "markdown",
   "id": "7a19ef0f",
   "metadata": {},
   "source": [
    "## CodeSystem $lookup "
   ]
  },
  {
   "cell_type": "code",
   "execution_count": 12,
   "id": "e87aea97",
   "metadata": {},
   "outputs": [
    {
     "name": "stdout",
     "output_type": "stream",
     "text": [
      "GETTING\n",
      "http://20.119.216.32:8000/r4/CodeSystem/$lookup?system=http://loinc.org&code=LA6668-3\n",
      "SENDING\n",
      "HTTP STATUS OK 200\n",
      "name:LOINC, display:Pathogenic, abstract:False, \n"
     ]
    }
   ],
   "source": [
    "client.lookup_code(system='http://loinc.org', code='LA6668-3')"
   ]
  },
  {
   "cell_type": "code",
   "execution_count": 13,
   "id": "3f19a571",
   "metadata": {},
   "outputs": [
    {
     "name": "stdout",
     "output_type": "stream",
     "text": [
      "GETTING\n",
      "http://20.119.216.32:8000/r4/CodeSystem/$lookup?system=http://loinc.org&code=bogus\n",
      "SENDING\n",
      "error: 404\n"
     ]
    }
   ],
   "source": [
    "client.lookup_code(system='http://loinc.org', code='bogus') # should fail"
   ]
  },
  {
   "cell_type": "code",
   "execution_count": 14,
   "id": "09f5b247",
   "metadata": {},
   "outputs": [
    {
     "name": "stdout",
     "output_type": "stream",
     "text": [
      "GETTING\n",
      "http://20.119.216.32:8000/r4/CodeSystem/$lookup?system=http://bogus.org&code=LA6668-3\n",
      "SENDING\n",
      "error: 404\n"
     ]
    }
   ],
   "source": [
    "client.lookup_code(system='http://bogus.org', code='LA6668-3') # should fail"
   ]
  },
  {
   "cell_type": "markdown",
   "id": "230dc950",
   "metadata": {},
   "source": [
    "## CodeSystem ```$find-matches (Trial Use)```\n",
    "```[base]/CodeSyste/$fine-matches with system and property.code and property.value to search on.```\n",
    "\n",
    "Note the compositional flag which mentions post-coordinated expressions and SNOMED.\n",
    "Current understanding is that this does not allow for regex-style text search on the concept name."
   ]
  },
  {
   "cell_type": "code",
   "execution_count": null,
   "id": "0f3a56a8",
   "metadata": {},
   "outputs": [],
   "source": [
    "# TODO"
   ]
  },
  {
   "cell_type": "markdown",
   "id": "1585aa46",
   "metadata": {},
   "source": [
    "## CodeSystem $subsumes\n",
    "Check whether a term is subsumed by another term."
   ]
  },
  {
   "cell_type": "code",
   "execution_count": 15,
   "id": "3bcf8d5b",
   "metadata": {},
   "outputs": [],
   "source": [
    "# TODO"
   ]
  },
  {
   "cell_type": "markdown",
   "id": "bcd30601",
   "metadata": {},
   "source": [
    "# What else?\n",
    "- search for concept by name, or pattern\n",
    "- modify concept? (no)\n",
    "- hierarchy closure, synonym closure\n",
    "- more"
   ]
  },
  {
   "cell_type": "code",
   "execution_count": null,
   "id": "c228c556",
   "metadata": {},
   "outputs": [],
   "source": []
  }
 ],
 "metadata": {
  "kernelspec": {
   "display_name": "Python 3 (ipykernel)",
   "language": "python",
   "name": "python3"
  },
  "language_info": {
   "codemirror_mode": {
    "name": "ipython",
    "version": 3
   },
   "file_extension": ".py",
   "mimetype": "text/x-python",
   "name": "python",
   "nbconvert_exporter": "python",
   "pygments_lexer": "ipython3",
   "version": "3.9.6"
  }
 },
 "nbformat": 4,
 "nbformat_minor": 5
}
