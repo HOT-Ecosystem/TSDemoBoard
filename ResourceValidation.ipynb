{
 "cells": [
  {
   "cell_type": "markdown",
   "id": "266cc6d5",
   "metadata": {},
   "source": [
    "# Resource Validation"
   ]
  },
  {
   "cell_type": "code",
   "execution_count": 1,
   "id": "3c144a36-117c-42a0-9109-df73433e8267",
   "metadata": {
    "scrolled": false
   },
   "outputs": [],
   "source": [
    "LOCAL=\"http://localhost:8088/fhir/\" # Jupyter uses 8888!!\n",
    "JHU=\"http://20.119.216.32:8000/r4/\"\n",
    "\n",
    "from imports import ResourceValidation\n",
    "client = ResourceValidation(LOCAL, False, False)\n",
    "#client = TimsClient(BASE_URL, False, True)\n",
    "# client = TimsClient(BASE_URL, True, True)"
   ]
  },
  {
   "cell_type": "markdown",
   "id": "ad5dd31c",
   "metadata": {},
   "source": [
    "## Organization  "
   ]
  },
  {
   "cell_type": "code",
   "execution_count": 2,
   "id": "61627370",
   "metadata": {},
   "outputs": [
    {
     "name": "stdout",
     "output_type": "stream",
     "text": [
      "http://localhost:8088/fhir//Organization/?_format=json&_pretty=true\n"
     ]
    }
   ],
   "source": [
    "client.put_organization(\"data/0_organization.json\")"
   ]
  },
  {
   "cell_type": "code",
   "execution_count": 3,
   "id": "d3bfcf3a",
   "metadata": {},
   "outputs": [
    {
     "name": "stdout",
     "output_type": "stream",
     "text": [
      "name:HealthGorilla\n",
      "resourceType: Organization  id: 18829\n",
      "\n"
     ]
    }
   ],
   "source": [
    "client.get_organization(\"HealthGorilla\")"
   ]
  },
  {
   "cell_type": "markdown",
   "id": "4012b46c",
   "metadata": {},
   "source": [
    "## Patient"
   ]
  },
  {
   "cell_type": "code",
   "execution_count": 4,
   "id": "2d050d49",
   "metadata": {},
   "outputs": [
    {
     "name": "stdout",
     "output_type": "stream",
     "text": [
      "http://localhost:8088/fhir//Patient/?_format=json&_pretty=true\n"
     ]
    }
   ],
   "source": [
    "client.put_patient(\"data/1_simple_patient.json\")"
   ]
  },
  {
   "cell_type": "code",
   "execution_count": 5,
   "id": "945dba3e",
   "metadata": {},
   "outputs": [
    {
     "name": "stdout",
     "output_type": "stream",
     "text": [
      "name:Chalmers\n",
      "name:Peter\n",
      "resourceType: Patient  id: 18845\n",
      "\n"
     ]
    }
   ],
   "source": [
    "client.get_patient(\"Chalmers\")"
   ]
  },
  {
   "cell_type": "markdown",
   "id": "6a03c880",
   "metadata": {},
   "source": [
    "## Encounter"
   ]
  },
  {
   "cell_type": "code",
   "execution_count": 6,
   "id": "cd79aa37",
   "metadata": {},
   "outputs": [
    {
     "name": "stdout",
     "output_type": "stream",
     "text": [
      "http://localhost:8088/fhir//Encounter/?_format=json&_pretty=true\n"
     ]
    }
   ],
   "source": [
    "client.put_encounter(\"data/2_encounter.json\")"
   ]
  },
  {
   "cell_type": "code",
   "execution_count": 7,
   "id": "bae22414",
   "metadata": {},
   "outputs": [
    {
     "name": "stdout",
     "output_type": "stream",
     "text": [
      "fullUrl:http://localhost:8088/fhir/Encounter/18852\n",
      "id: 18852\n",
      "text status: generated\n",
      "text div: <div xmlns=\"http://www.w3.org/1999/xhtml\">Encounter with patient</div>\n",
      "status: in-progress\n",
      "patient ref: Patient/18845\n",
      "\n",
      "fullUrl:http://localhost:8088/fhir/Encounter/18855\n",
      "id: 18855\n",
      "text status: generated\n",
      "text div: <div xmlns=\"http://www.w3.org/1999/xhtml\">Encounter with patient</div>\n",
      "status: in-progress\n",
      "patient ref: Patient/18845\n",
      "\n",
      "fullUrl:http://localhost:8088/fhir/Encounter/18858\n",
      "id: 18858\n",
      "text status: generated\n",
      "text div: <div xmlns=\"http://www.w3.org/1999/xhtml\">Encounter with patient</div>\n",
      "status: in-progress\n",
      "patient ref: Patient/18845\n",
      "\n",
      "fullUrl:http://localhost:8088/fhir/Encounter/18887\n",
      "id: 18887\n",
      "text status: generated\n",
      "text div: <div xmlns=\"http://www.w3.org/1999/xhtml\">Encounter with patient</div>\n",
      "status: in-progress\n",
      "patient ref: Patient/18845\n",
      "\n",
      "fullUrl:http://localhost:8088/fhir/Encounter/18890\n",
      "id: 18890\n",
      "text status: generated\n",
      "text div: <div xmlns=\"http://www.w3.org/1999/xhtml\">Encounter with patient</div>\n",
      "status: in-progress\n",
      "patient ref: Patient/18845\n",
      "\n",
      "fullUrl:http://localhost:8088/fhir/Encounter/18893\n",
      "id: 18893\n",
      "text status: generated\n",
      "text div: <div xmlns=\"http://www.w3.org/1999/xhtml\">Encounter with patient</div>\n",
      "status: in-progress\n",
      "patient ref: Patient/18845\n",
      "\n",
      "fullUrl:http://localhost:8088/fhir/Encounter/18896\n",
      "id: 18896\n",
      "text status: generated\n",
      "text div: <div xmlns=\"http://www.w3.org/1999/xhtml\">Encounter with patient</div>\n",
      "status: in-progress\n",
      "patient ref: Patient/18845\n",
      "\n",
      "fullUrl:http://localhost:8088/fhir/Encounter/18899\n",
      "id: 18899\n",
      "text status: generated\n",
      "text div: <div xmlns=\"http://www.w3.org/1999/xhtml\">Encounter with patient</div>\n",
      "status: in-progress\n",
      "patient ref: Patient/18845\n",
      "\n",
      "fullUrl:http://localhost:8088/fhir/Encounter/18902\n",
      "id: 18902\n",
      "text status: generated\n",
      "text div: <div xmlns=\"http://www.w3.org/1999/xhtml\">Encounter with patient</div>\n",
      "status: in-progress\n",
      "patient ref: Patient/18845\n",
      "\n",
      "fullUrl:http://localhost:8088/fhir/Encounter/18905\n",
      "id: 18905\n",
      "text status: generated\n",
      "text div: <div xmlns=\"http://www.w3.org/1999/xhtml\">Encounter with patient</div>\n",
      "status: in-progress\n",
      "patient ref: Patient/18845\n",
      "\n",
      "fullUrl:http://localhost:8088/fhir/Encounter/18908\n",
      "id: 18908\n",
      "text status: generated\n",
      "text div: <div xmlns=\"http://www.w3.org/1999/xhtml\">Encounter with patient</div>\n",
      "status: in-progress\n",
      "patient ref: Patient/18845\n",
      "\n",
      "fullUrl:http://localhost:8088/fhir/Encounter/18911\n",
      "id: 18911\n",
      "text status: generated\n",
      "text div: <div xmlns=\"http://www.w3.org/1999/xhtml\">Encounter with patient</div>\n",
      "status: in-progress\n",
      "patient ref: Patient/18845\n",
      "\n",
      "fullUrl:http://localhost:8088/fhir/Encounter/18914\n",
      "id: 18914\n",
      "text status: generated\n",
      "text div: <div xmlns=\"http://www.w3.org/1999/xhtml\">Encounter with patient</div>\n",
      "status: in-progress\n",
      "patient ref: Patient/18845\n",
      "\n",
      "fullUrl:http://localhost:8088/fhir/Encounter/18917\n",
      "id: 18917\n",
      "text status: generated\n",
      "text div: <div xmlns=\"http://www.w3.org/1999/xhtml\">Encounter with patient</div>\n",
      "status: in-progress\n",
      "patient ref: Patient/18845\n",
      "\n",
      "\n"
     ]
    }
   ],
   "source": [
    "client.get_encounter('18845')"
   ]
  },
  {
   "cell_type": "code",
   "execution_count": 8,
   "id": "da09080a",
   "metadata": {},
   "outputs": [
    {
     "name": "stdout",
     "output_type": "stream",
     "text": [
      "http://localhost:8088/fhir//Encounter/?_format=json&_pretty=true\n"
     ]
    }
   ],
   "source": [
    "client.put_encounter(\"data/3_encounter.json\")"
   ]
  },
  {
   "cell_type": "code",
   "execution_count": 9,
   "id": "56e52fcf",
   "metadata": {},
   "outputs": [
    {
     "name": "stdout",
     "output_type": "stream",
     "text": [
      "entry Not Present\n",
      "{'resourceType': 'Bundle', 'id': '71c71f22-5c30-4c87-b444-e54100e460d3', 'meta': {'lastUpdated': '2022-10-05T17:44:10.772-06:00'}, 'type': 'searchset', 'total': 0, 'link': [{'relation': 'self', 'url': 'http://localhost:8088/fhir//Encounter/?patient=99945'}]}\n",
      "\n",
      "\n"
     ]
    }
   ],
   "source": [
    "client.get_encounter('99945') # the non-existant patient 3_encounter refers to"
   ]
  },
  {
   "cell_type": "code",
   "execution_count": 10,
   "id": "bd4323db",
   "metadata": {
    "scrolled": true
   },
   "outputs": [
    {
     "name": "stdout",
     "output_type": "stream",
     "text": [
      "fullUrl:http://localhost:8088/fhir/Encounter/18852\n",
      "id: 18852\n",
      "text status: generated\n",
      "text div: <div xmlns=\"http://www.w3.org/1999/xhtml\">Encounter with patient</div>\n",
      "status: in-progress\n",
      "patient ref: Patient/18845\n",
      "\n",
      "fullUrl:http://localhost:8088/fhir/Encounter/18855\n",
      "id: 18855\n",
      "text status: generated\n",
      "text div: <div xmlns=\"http://www.w3.org/1999/xhtml\">Encounter with patient</div>\n",
      "status: in-progress\n",
      "patient ref: Patient/18845\n",
      "\n",
      "fullUrl:http://localhost:8088/fhir/Encounter/18858\n",
      "id: 18858\n",
      "text status: generated\n",
      "text div: <div xmlns=\"http://www.w3.org/1999/xhtml\">Encounter with patient</div>\n",
      "status: in-progress\n",
      "patient ref: Patient/18845\n",
      "\n",
      "fullUrl:http://localhost:8088/fhir/Encounter/18887\n",
      "id: 18887\n",
      "text status: generated\n",
      "text div: <div xmlns=\"http://www.w3.org/1999/xhtml\">Encounter with patient</div>\n",
      "status: in-progress\n",
      "patient ref: Patient/18845\n",
      "\n",
      "fullUrl:http://localhost:8088/fhir/Encounter/18890\n",
      "id: 18890\n",
      "text status: generated\n",
      "text div: <div xmlns=\"http://www.w3.org/1999/xhtml\">Encounter with patient</div>\n",
      "status: in-progress\n",
      "patient ref: Patient/18845\n",
      "\n",
      "fullUrl:http://localhost:8088/fhir/Encounter/18893\n",
      "id: 18893\n",
      "text status: generated\n",
      "text div: <div xmlns=\"http://www.w3.org/1999/xhtml\">Encounter with patient</div>\n",
      "status: in-progress\n",
      "patient ref: Patient/18845\n",
      "\n",
      "fullUrl:http://localhost:8088/fhir/Encounter/18896\n",
      "id: 18896\n",
      "text status: generated\n",
      "text div: <div xmlns=\"http://www.w3.org/1999/xhtml\">Encounter with patient</div>\n",
      "status: in-progress\n",
      "patient ref: Patient/18845\n",
      "\n",
      "fullUrl:http://localhost:8088/fhir/Encounter/18899\n",
      "id: 18899\n",
      "text status: generated\n",
      "text div: <div xmlns=\"http://www.w3.org/1999/xhtml\">Encounter with patient</div>\n",
      "status: in-progress\n",
      "patient ref: Patient/18845\n",
      "\n",
      "fullUrl:http://localhost:8088/fhir/Encounter/18902\n",
      "id: 18902\n",
      "text status: generated\n",
      "text div: <div xmlns=\"http://www.w3.org/1999/xhtml\">Encounter with patient</div>\n",
      "status: in-progress\n",
      "patient ref: Patient/18845\n",
      "\n",
      "fullUrl:http://localhost:8088/fhir/Encounter/18905\n",
      "id: 18905\n",
      "text status: generated\n",
      "text div: <div xmlns=\"http://www.w3.org/1999/xhtml\">Encounter with patient</div>\n",
      "status: in-progress\n",
      "patient ref: Patient/18845\n",
      "\n",
      "fullUrl:http://localhost:8088/fhir/Encounter/18908\n",
      "id: 18908\n",
      "text status: generated\n",
      "text div: <div xmlns=\"http://www.w3.org/1999/xhtml\">Encounter with patient</div>\n",
      "status: in-progress\n",
      "patient ref: Patient/18845\n",
      "\n",
      "fullUrl:http://localhost:8088/fhir/Encounter/18911\n",
      "id: 18911\n",
      "text status: generated\n",
      "text div: <div xmlns=\"http://www.w3.org/1999/xhtml\">Encounter with patient</div>\n",
      "status: in-progress\n",
      "patient ref: Patient/18845\n",
      "\n",
      "fullUrl:http://localhost:8088/fhir/Encounter/18914\n",
      "id: 18914\n",
      "text status: generated\n",
      "text div: <div xmlns=\"http://www.w3.org/1999/xhtml\">Encounter with patient</div>\n",
      "status: in-progress\n",
      "patient ref: Patient/18845\n",
      "\n",
      "fullUrl:http://localhost:8088/fhir/Encounter/18917\n",
      "id: 18917\n",
      "text status: generated\n",
      "text div: <div xmlns=\"http://www.w3.org/1999/xhtml\">Encounter with patient</div>\n",
      "status: in-progress\n",
      "patient ref: Patient/18845\n",
      "\n",
      "\n"
     ]
    }
   ],
   "source": [
    "client.search_encounter()"
   ]
  },
  {
   "cell_type": "code",
   "execution_count": null,
   "id": "1d755607",
   "metadata": {},
   "outputs": [],
   "source": []
  }
 ],
 "metadata": {
  "kernelspec": {
   "display_name": "Python 3 (ipykernel)",
   "language": "python",
   "name": "python3"
  },
  "language_info": {
   "codemirror_mode": {
    "name": "ipython",
    "version": 3
   },
   "file_extension": ".py",
   "mimetype": "text/x-python",
   "name": "python",
   "nbconvert_exporter": "python",
   "pygments_lexer": "ipython3",
   "version": "3.9.6"
  }
 },
 "nbformat": 4,
 "nbformat_minor": 5
}
