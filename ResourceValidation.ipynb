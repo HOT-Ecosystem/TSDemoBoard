{
 "cells": [
  {
   "cell_type": "markdown",
   "id": "266cc6d5",
   "metadata": {},
   "source": [
    "# Resource Validation"
   ]
  },
  {
   "cell_type": "code",
   "execution_count": 29,
   "id": "3c144a36-117c-42a0-9109-df73433e8267",
   "metadata": {
    "scrolled": false
   },
   "outputs": [],
   "source": [
    "LOCAL=\"http://localhost:8088/fhir\" # Jupyter uses 8888!!\n",
    "JHU=\"http://20.119.216.32:8000/r4\"\n",
    "server_path=LOCAL\n",
    "\n",
    "import httpx\n",
    "import json\n",
    "from IPython.display import display, HTML\n",
    "\n",
    "client = httpx.Client()\n",
    "request_headers = {\n",
    "    \"Content-Type\" : \"application/fhir+json; charset=UTF-8\",\n",
    "    \"Accept-Charset\" : \"utf-8\",\n",
    "    \"User-Agent\" : \"HAPI-FHIR/5.0.0 (FHIR Client; FHIR 4.0.1/R4; apache)\" }\n",
    "\n",
    "def do_hapi_request(internal_path, in_params):\n",
    "    rq = httpx.Request(\"GET\", server_path + internal_path,\n",
    "               params = in_params,  headers=request_headers)\n",
    "    print(rq.url)\n",
    "    response = client.send(rq)\n",
    "    return response\n",
    "\n",
    "def do_hapi_post(internal_path, form_data, in_params):\n",
    "    rq = httpx.Request(\"POST\", server_path + internal_path,\n",
    "                       data=form_data,\n",
    "                       params=in_params,  \n",
    "                       headers=request_headers)\n",
    "    print(rq.url)\n",
    "    response = client.send(rq)\n",
    "    return response\n",
    "    \n",
    "def decode_status(response):\n",
    "    if response is None:\n",
    "        print(\"NO RESPONSE\")\n",
    "        return(True)\n",
    "    else:\n",
    "        if (response.status_code >= 200 and response.status_code < 300):\n",
    "            return(False)\n",
    "        elif (response.status_code >= 400 and response.status_code < 500):\n",
    "            return(True)\n",
    "        elif (response.status_code >= 500) :\n",
    "            return(True)\n",
    "\n",
    "def decode_code_system_json(response):\n",
    "    if not decode_status(response) :\n",
    "        response_dict = json.loads(response.text)\n",
    "        if ('entry' in response_dict):\n",
    "            print(\"title:\" + response_dict['entry'][0]['resource']['title'])\n",
    "            print(\"resourceType:\", response_dict['entry'][0]['resource']['resourceType'],\n",
    "                 end=\"  \")\n",
    "            print(\"id: \" + response_dict['entry'][0]['resource']['id'])\n",
    "            print(\"url: \" + response_dict['entry'][0]['resource']['url'])\n",
    "            print(\"full url: \" + response_dict['entry'][0]['fullUrl'])\n",
    "            if len(response_dict['entry']) > 1 :\n",
    "                print(\"identifier system:\\\"\" + response_dict['entry'][1]['resource']['identifier'][0]['system'],\n",
    "                      end=\"\\\",  \")\n",
    "                print(\"value: \\\"\" + response_dict['entry'][1]['resource']['identifier'][0]['value'] + \"\\\"\")\n",
    "            else:\n",
    "                print(\"?? no 2nd entry for resource identifier\")\n",
    "        else:\n",
    "            print(\"Not Present\")\n",
    "        print(\"\")  \n",
    "        \n",
    "def decode_organization_json(response):\n",
    "    if not decode_status(response) :\n",
    "        response_dict = json.loads(response.text)\n",
    "        if ('entry' in response_dict):\n",
    "            print(\"name:\" + response_dict['entry'][0]['resource']['name'])\n",
    "            print(\"resourceType:\", response_dict['entry'][0]['resource']['resourceType'],\n",
    "                 end=\"  \")\n",
    "            print(\"id: \" + response_dict['entry'][0]['resource']['id'])\n",
    "        else:\n",
    "            print(\"Not Present\")\n",
    "        print(\"\") \n",
    "        \n",
    "def decode_patient_json(response):\n",
    "    if not decode_status(response) :\n",
    "        response_dict = json.loads(response.text)\n",
    "        if ('entry' in response_dict):\n",
    "            print(\"name:\" + response_dict['entry'][0]['resource']['name'][0]['family'])\n",
    "            print(\"name:\" + response_dict['entry'][0]['resource']['name'][0]['given'][0])            \n",
    "            print(\"resourceType:\", response_dict['entry'][0]['resource']['resourceType'],\n",
    "                 end=\"  \")\n",
    "            print(\"id: \" + response_dict['entry'][0]['resource']['id'])\n",
    "        else:\n",
    "            print(\"Not Present\")\n",
    "        print(\"\")\n",
    "        \n",
    "def decode_encounter_json(response):\n",
    "    if not decode_status(response) :\n",
    "        response_dict = json.loads(response.text)\n",
    "        if ('entry' in response_dict):\n",
    "            print(response_dict['entry'][0]['fullUrl'])   \n",
    "            print(\"id: \" + response_dict['entry'][0]['resource']['id'])\n",
    "            print(\"text status: \" + response_dict['entry'][0]['resource']['text']['status'])\n",
    "            print(\"text div: \" + response_dict['entry'][0]['resource']['text']['div'])            \n",
    "            print(\"status: \" + response_dict['entry'][0]['resource']['status'])\n",
    "        else:\n",
    "            print(\"Not Present\")\n",
    "        print(\"\")        \n",
    "\n",
    "def decode_validate_response(repsonse) :\n",
    "    print(response)\n",
    "    if False:\n",
    "        print(response.keys())\n",
    "        print(response['issue']['severity'])\n",
    "        print(response['issue']['response'])\n",
    "        display(HTML(response['text']['div']))\n",
    "        print(\"\")\n",
    "        \n",
    "def decode_lookup_response(response):\n",
    "    if (not decode_status(response)) :\n",
    "        response_dict = json.loads(response.text)\n",
    "        for p in response_dict['parameter']:\n",
    "            if p['name'] != 'property' and p['name'] != 'designation':\n",
    "                if 'valueString' in p:\n",
    "                    print(p['name'], \":\", p['valueString'], sep=\"\", end=\", \")\n",
    "                if 'valueBoolean' in p:\n",
    "                    print(p['name'], \":\", p['valueBoolean'], sep=\"\", end=\", \")\n",
    "        print(\"\")\n",
    "    else:\n",
    "        print(\"error\")\n",
    "    print(\"\")"
   ]
  },
  {
   "cell_type": "markdown",
   "id": "ad5dd31c",
   "metadata": {},
   "source": [
    "## Organization  "
   ]
  },
  {
   "cell_type": "code",
   "execution_count": 2,
   "id": "61627370",
   "metadata": {},
   "outputs": [
    {
     "name": "stdout",
     "output_type": "stream",
     "text": [
      "http://localhost:8088/fhir/Organization/?_format=json&_pretty=true\n",
      "Not Present\n",
      "\n",
      "<Response [201 Created]>\n"
     ]
    }
   ],
   "source": [
    "org_file = open(\"0_organization.json\", \"r\")\n",
    "form_data = org_file.read()\n",
    "\n",
    "response = do_hapi_post(\"/Organization/\", form_data, \n",
    "             {\"_format\" : \"json\", \"_pretty\" : \"true\"})    \n",
    "if (not decode_status(response)) :\n",
    "    decode_organization_json(response)  \n",
    "else:\n",
    "    print(\"no good\")\n",
    "print(response)    "
   ]
  },
  {
   "cell_type": "code",
   "execution_count": 3,
   "id": "d3bfcf3a",
   "metadata": {},
   "outputs": [
    {
     "name": "stdout",
     "output_type": "stream",
     "text": [
      "http://localhost:8088/fhir/Organization/?name=HealthGorilla\n",
      "name:HealthGorilla\n",
      "resourceType: Organization  id: 18829\n",
      "\n"
     ]
    }
   ],
   "source": [
    "response = do_hapi_request(\"/Organization/\", {'name' : 'HealthGorilla'})\n",
    "if (not decode_status(response)) :\n",
    "    decode_organization_json(response)  \n",
    "else:\n",
    "    print(\"no good\")"
   ]
  },
  {
   "cell_type": "markdown",
   "id": "4012b46c",
   "metadata": {},
   "source": [
    "## Patient"
   ]
  },
  {
   "cell_type": "code",
   "execution_count": 4,
   "id": "2d050d49",
   "metadata": {},
   "outputs": [
    {
     "name": "stdout",
     "output_type": "stream",
     "text": [
      "http://localhost:8088/fhir/Patient/?_format=json&_pretty=true\n",
      "Not Present\n",
      "\n",
      "<Response [201 Created]>\n"
     ]
    }
   ],
   "source": [
    "patient_file = open(\"1_simple_patient.json\", \"r\")\n",
    "form_data = patient_file.read()\n",
    "response = do_hapi_post(\"/Patient/\", form_data, \n",
    "             {\"_format\":\"json\", \"_pretty\":\"true\"})    \n",
    "if (not decode_status(response)) :\n",
    "    decode_code_system_json(response) \n",
    "else:\n",
    "    print(\"no good\")\n",
    "print(response)"
   ]
  },
  {
   "cell_type": "code",
   "execution_count": 5,
   "id": "945dba3e",
   "metadata": {},
   "outputs": [
    {
     "name": "stdout",
     "output_type": "stream",
     "text": [
      "http://localhost:8088/fhir/Patient/?name=Chalmers\n",
      "[{'fullUrl': 'http://localhost:8088/fhir/Patient/18845', 'resource': {'resourceType': 'Patient', 'id': '18845', 'meta': {'versionId': '1', 'lastUpdated': '2022-10-04T17:30:41.144-06:00', 'source': '#5gAIj595LeemfHvm'}, 'text': {'status': 'generated', 'div': '<div xmlns=\"http://www.w3.org/1999/xhtml\"><div class=\"hapiHeaderText\">Peter James <b>CHALMERS </b></div><table class=\"hapiPropertyTable\"><tbody><tr><td>Date of birth</td><td><span>25 December 1974</span></td></tr></tbody></table></div>'}, 'active': True, 'name': [{'use': 'official', 'family': 'Chalmers', 'given': ['Peter', 'James']}], 'telecom': [{'system': 'phone', 'value': '(03) 5555 6473', 'use': 'work', 'rank': 1}, {'system': 'phone', 'value': '(03) 3410 5613', 'use': 'mobile', 'rank': 2}], 'gender': 'male', 'birthDate': '1974-12-25', 'deceasedBoolean': False}, 'search': {'mode': 'match'}}, {'fullUrl': 'http://localhost:8088/fhir/Patient/18846', 'resource': {'resourceType': 'Patient', 'id': '18846', 'meta': {'versionId': '1', 'lastUpdated': '2022-10-04T17:31:29.729-06:00', 'source': '#ZLzei9Ni1xueUNfV'}, 'text': {'status': 'generated', 'div': '<div xmlns=\"http://www.w3.org/1999/xhtml\"><div class=\"hapiHeaderText\">Peter James <b>CHALMERS </b></div><table class=\"hapiPropertyTable\"><tbody><tr><td>Identifier</td><td>12345</td></tr><tr><td>Date of birth</td><td><span>25 December 1974</span></td></tr></tbody></table></div>'}, 'identifier': [{'use': 'usual', 'type': {'coding': [{'system': 'http://terminology.hl7.org/CodeSystem/v2-0203', 'code': 'MR'}]}, 'system': 'urn:oid:1.2.36.146.595.217.0.1', 'value': '12345', 'period': {'start': '2001-05-06'}, 'assigner': {'display': 'Acme Healthcare'}}], 'active': True, 'name': [{'use': 'official', 'family': 'Chalmers', 'given': ['Peter', 'James']}], 'telecom': [{'system': 'phone', 'value': '(03) 5555 6473', 'use': 'work', 'rank': 1}, {'system': 'phone', 'value': '(03) 3410 5613', 'use': 'mobile', 'rank': 2}], 'gender': 'male', 'birthDate': '1974-12-25', 'deceasedBoolean': False}, 'search': {'mode': 'match'}}, {'fullUrl': 'http://localhost:8088/fhir/Patient/18848', 'resource': {'resourceType': 'Patient', 'id': '18848', 'meta': {'versionId': '1', 'lastUpdated': '2022-10-04T17:33:30.882-06:00', 'source': '#ejXEdLZS0PrzSlth'}, 'text': {'status': 'generated', 'div': '<div xmlns=\"http://www.w3.org/1999/xhtml\"><div class=\"hapiHeaderText\">Peter James <b>CHALMERS </b></div><table class=\"hapiPropertyTable\"><tbody><tr><td>Identifier</td><td>12345</td></tr><tr><td>Date of birth</td><td><span>25 December 1974</span></td></tr></tbody></table></div>'}, 'identifier': [{'use': 'usual', 'type': {'coding': [{'system': 'http://terminology.hl7.org/CodeSystem/v2-0203', 'code': 'MR'}]}, 'system': 'urn:oid:1.2.36.146.595.217.0.1', 'value': '12345', 'period': {'start': '2001-05-06'}, 'assigner': {'display': 'Acme Healthcare'}}], 'active': True, 'name': [{'use': 'official', 'family': 'Chalmers', 'given': ['Peter', 'James']}], 'telecom': [{'system': 'phone', 'value': '(03) 5555 6473', 'use': 'work', 'rank': 1}, {'system': 'phone', 'value': '(03) 3410 5613', 'use': 'mobile', 'rank': 2}], 'gender': 'male', 'birthDate': '1974-12-25', 'deceasedBoolean': False}, 'search': {'mode': 'match'}}, {'fullUrl': 'http://localhost:8088/fhir/Patient/18850', 'resource': {'resourceType': 'Patient', 'id': '18850', 'meta': {'versionId': '1', 'lastUpdated': '2022-10-04T17:34:40.730-06:00', 'source': '#RxDsSpA6zVUwABuI'}, 'text': {'status': 'generated', 'div': '<div xmlns=\"http://www.w3.org/1999/xhtml\"><div class=\"hapiHeaderText\">Peter James <b>CHALMERS </b></div><table class=\"hapiPropertyTable\"><tbody><tr><td>Identifier</td><td>12345</td></tr><tr><td>Date of birth</td><td><span>25 December 1974</span></td></tr></tbody></table></div>'}, 'identifier': [{'use': 'usual', 'type': {'coding': [{'system': 'http://terminology.hl7.org/CodeSystem/v2-0203', 'code': 'MR'}]}, 'system': 'urn:oid:1.2.36.146.595.217.0.1', 'value': '12345', 'period': {'start': '2001-05-06'}, 'assigner': {'display': 'Acme Healthcare'}}], 'active': True, 'name': [{'use': 'official', 'family': 'Chalmers', 'given': ['Peter', 'James']}], 'telecom': [{'system': 'phone', 'value': '(03) 5555 6473', 'use': 'work', 'rank': 1}, {'system': 'phone', 'value': '(03) 3410 5613', 'use': 'mobile', 'rank': 2}], 'gender': 'male', 'birthDate': '1974-12-25', 'deceasedBoolean': False}, 'search': {'mode': 'match'}}, {'fullUrl': 'http://localhost:8088/fhir/Patient/18851', 'resource': {'resourceType': 'Patient', 'id': '18851', 'meta': {'versionId': '1', 'lastUpdated': '2022-10-04T17:36:03.722-06:00', 'source': '#IPXGPVfQwjJAOpuO'}, 'text': {'status': 'generated', 'div': '<div xmlns=\"http://www.w3.org/1999/xhtml\"><div class=\"hapiHeaderText\">Peter James <b>CHALMERS </b></div><table class=\"hapiPropertyTable\"><tbody><tr><td>Identifier</td><td>12345</td></tr><tr><td>Date of birth</td><td><span>25 December 1974</span></td></tr></tbody></table></div>'}, 'identifier': [{'use': 'usual', 'type': {'coding': [{'system': 'http://terminology.hl7.org/CodeSystem/v2-0203', 'code': 'MR'}]}, 'system': 'urn:oid:1.2.36.146.595.217.0.1', 'value': '12345', 'period': {'start': '2001-05-06'}, 'assigner': {'display': 'Acme Healthcare'}}], 'active': True, 'name': [{'use': 'official', 'family': 'Chalmers', 'given': ['Peter', 'James']}], 'telecom': [{'system': 'phone', 'value': '(03) 5555 6473', 'use': 'work', 'rank': 1}, {'system': 'phone', 'value': '(03) 3410 5613', 'use': 'mobile', 'rank': 2}], 'gender': 'male', 'birthDate': '1974-12-25', 'deceasedBoolean': False}, 'search': {'mode': 'match'}}, {'fullUrl': 'http://localhost:8088/fhir/Patient/18854', 'resource': {'resourceType': 'Patient', 'id': '18854', 'meta': {'versionId': '1', 'lastUpdated': '2022-10-04T17:51:40.059-06:00', 'source': '#9aWzvrid355roRcX'}, 'text': {'status': 'generated', 'div': '<div xmlns=\"http://www.w3.org/1999/xhtml\"><div class=\"hapiHeaderText\">Peter James <b>CHALMERS </b></div><table class=\"hapiPropertyTable\"><tbody><tr><td>Identifier</td><td>12345</td></tr><tr><td>Date of birth</td><td><span>25 December 1974</span></td></tr></tbody></table></div>'}, 'identifier': [{'use': 'usual', 'type': {'coding': [{'system': 'http://terminology.hl7.org/CodeSystem/v2-0203', 'code': 'MR'}]}, 'system': 'urn:oid:1.2.36.146.595.217.0.1', 'value': '12345', 'period': {'start': '2001-05-06'}, 'assigner': {'display': 'Acme Healthcare'}}], 'active': True, 'name': [{'use': 'official', 'family': 'Chalmers', 'given': ['Peter', 'James']}], 'telecom': [{'system': 'phone', 'value': '(03) 5555 6473', 'use': 'work', 'rank': 1}, {'system': 'phone', 'value': '(03) 3410 5613', 'use': 'mobile', 'rank': 2}], 'gender': 'male', 'birthDate': '1974-12-25', 'deceasedBoolean': False}, 'search': {'mode': 'match'}}, {'fullUrl': 'http://localhost:8088/fhir/Patient/18857', 'resource': {'resourceType': 'Patient', 'id': '18857', 'meta': {'versionId': '1', 'lastUpdated': '2022-10-04T17:55:30.638-06:00', 'source': '#TZFSjpfId3KHOdpm'}, 'text': {'status': 'generated', 'div': '<div xmlns=\"http://www.w3.org/1999/xhtml\"><div class=\"hapiHeaderText\">Peter James <b>CHALMERS </b></div><table class=\"hapiPropertyTable\"><tbody><tr><td>Identifier</td><td>12345</td></tr><tr><td>Date of birth</td><td><span>25 December 1974</span></td></tr></tbody></table></div>'}, 'identifier': [{'use': 'usual', 'type': {'coding': [{'system': 'http://terminology.hl7.org/CodeSystem/v2-0203', 'code': 'MR'}]}, 'system': 'urn:oid:1.2.36.146.595.217.0.1', 'value': '12345', 'period': {'start': '2001-05-06'}, 'assigner': {'display': 'Acme Healthcare'}}], 'active': True, 'name': [{'use': 'official', 'family': 'Chalmers', 'given': ['Peter', 'James']}], 'telecom': [{'system': 'phone', 'value': '(03) 5555 6473', 'use': 'work', 'rank': 1}, {'system': 'phone', 'value': '(03) 3410 5613', 'use': 'mobile', 'rank': 2}], 'gender': 'male', 'birthDate': '1974-12-25', 'deceasedBoolean': False}, 'search': {'mode': 'match'}}]\n",
      "name:Chalmers\n",
      "name:Peter\n",
      "resourceType: Patient  id: 18845\n",
      "\n"
     ]
    }
   ],
   "source": [
    "response = do_hapi_request(\"/Patient/\", {'name' : 'Chalmers'})\n",
    "if (not decode_status(response)) :\n",
    "    decode_patient_json(response)  \n",
    "else:\n",
    "    print(\"no good\")"
   ]
  },
  {
   "cell_type": "markdown",
   "id": "6a03c880",
   "metadata": {},
   "source": [
    "## Encounter"
   ]
  },
  {
   "cell_type": "code",
   "execution_count": 6,
   "id": "cd79aa37",
   "metadata": {},
   "outputs": [
    {
     "name": "stdout",
     "output_type": "stream",
     "text": [
      "http://localhost:8088/fhir/Encounter/?_format=json&_pretty=true\n",
      "Not Present\n",
      "\n",
      "<Response [201 Created]>\n"
     ]
    }
   ],
   "source": [
    "encounter_file = open(\"2_encounter.json\", \"r\")\n",
    "form_data = encounter_file.read()\n",
    "response = do_hapi_post(\"/Encounter/\", form_data, \n",
    "             {\"_format\":\"json\", \"_pretty\":\"true\"})    \n",
    "if (not decode_status(response)) :\n",
    "    decode_code_system_json(response) \n",
    "else:\n",
    "    print(\"no good\")\n",
    "print(response)"
   ]
  },
  {
   "cell_type": "code",
   "execution_count": 30,
   "id": "bae22414",
   "metadata": {},
   "outputs": [
    {
     "name": "stdout",
     "output_type": "stream",
     "text": [
      "http://localhost:8088/fhir/Encounter/?patient=18845\n",
      "http://localhost:8088/fhir/Encounter/18852\n",
      "id: 18852\n",
      "text status: generated\n",
      "text div: <div xmlns=\"http://www.w3.org/1999/xhtml\">Encounter with patient</div>\n",
      "status: in-progress\n",
      "\n"
     ]
    }
   ],
   "source": [
    "response = do_hapi_request(\"/Encounter/\", {'patient' : '18845'})\n",
    "if (not decode_status(response)) :\n",
    "    decode_encounter_json(response)  \n",
    "else:\n",
    "    print(\"no good\")"
   ]
  },
  {
   "cell_type": "code",
   "execution_count": null,
   "id": "e0fa7de1",
   "metadata": {},
   "outputs": [],
   "source": []
  }
 ],
 "metadata": {
  "kernelspec": {
   "display_name": "Python 3 (ipykernel)",
   "language": "python",
   "name": "python3"
  },
  "language_info": {
   "codemirror_mode": {
    "name": "ipython",
    "version": 3
   },
   "file_extension": ".py",
   "mimetype": "text/x-python",
   "name": "python",
   "nbconvert_exporter": "python",
   "pygments_lexer": "ipython3",
   "version": "3.9.6"
  }
 },
 "nbformat": 4,
 "nbformat_minor": 5
}
