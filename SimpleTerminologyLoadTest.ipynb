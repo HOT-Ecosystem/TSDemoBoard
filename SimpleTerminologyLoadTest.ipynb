{
 "cells": [
  {
   "cell_type": "markdown",
   "id": "266cc6d5",
   "metadata": {},
   "source": [
    "# Simple Terminology Load Test\n",
    "this is wall-clock time where a server-side cache may help and give better results\n",
    "Need also to count the number of concepts actually loaded"
   ]
  },
  {
   "cell_type": "markdown",
   "id": "a3176184",
   "metadata": {},
   "source": [
    "## List CodeSystems on localhost (wallclock time)"
   ]
  },
  {
   "cell_type": "code",
   "execution_count": 33,
   "id": "3c144a36-117c-42a0-9109-df73433e8267",
   "metadata": {
    "scrolled": false
   },
   "outputs": [
    {
     "name": "stdout",
     "output_type": "stream",
     "text": [
      "ADAAreaOralCavitySystem, ADAUniversalToothDesignationSystem, AHA_NUBC_PatientDischargeStatus, AHA_NUBC_PointOfOrigin_Newborn, AHA_NUBC_PointOfOrigin_Nonnewborn, AHA_NUBC_PriorityTypeOfAdmitOrVisit, AHA_NUBC_RevenueCodes, AHA_NUBC_TypeOfBill, APDRG, APRDRG, CAPeCC, CCC, CDCNHSN, CDCREC, CDT, CMSPlaceofServiceCodes, CPT, CVX, ClinVarV, GMDN\n",
      "0.020801067352294922\n"
     ]
    }
   ],
   "source": [
    "BASE_URL =\"http://localhost:8088/fhir/\" \n",
    "import time\n",
    "from imports import TimsClient\n",
    "client = TimsClient(BASE_URL, False, False)\n",
    "\n",
    "\n",
    "start = time.time()\n",
    "client.summarize_code_systems()\n",
    "end = time.time()\n",
    "print(end - start)"
   ]
  },
  {
   "cell_type": "markdown",
   "id": "67f472fc",
   "metadata": {},
   "source": [
    "## List CodeSystems on Azure (wallclock time)\n",
    "Consider the impact of a different set of loaded ontologies..."
   ]
  },
  {
   "cell_type": "code",
   "execution_count": 32,
   "id": "8add4061",
   "metadata": {},
   "outputs": [
    {
     "name": "stdout",
     "output_type": "stream",
     "text": [
      "SNOMED CT, LOINC, ICD-10-CM, CPT4, http://purl.obolibrary.org/obo/mondo.owl, HPO\n",
      "9.855390071868896\n"
     ]
    }
   ],
   "source": [
    "BASE_URL = \"http://20.119.216.32:8000/r4/\"  # JHU Azure TIMS server\n",
    "import time\n",
    "from imports import TimsClient\n",
    "client = TimsClient(BASE_URL, False, False)\n",
    "\n",
    "start = time.time()\n",
    "client.summarize_code_systems()\n",
    "end = time.time()\n",
    "print(end - start)"
   ]
  },
  {
   "cell_type": "markdown",
   "id": "ad5dd31c",
   "metadata": {},
   "source": [
    "Details of a single code system:"
   ]
  },
  {
   "cell_type": "code",
   "execution_count": 36,
   "id": "61627370",
   "metadata": {},
   "outputs": [
    {
     "name": "stdout",
     "output_type": "stream",
     "text": [
      "LOINC?\n",
      "GETTING\n",
      "http://localhost:8088/fhir/CodeSystem?name=LOINC\n",
      "SENDING\n",
      "HTTP STATUS OK 200\n",
      "name: LOINC\n",
      "title: Logical Observation Identifiers, Names and Codes (LOINC)\n",
      "resourceType:  CodeSystem  id: v3-loinc\n",
      "url: http://loinc.org\n",
      "full url: http://localhost:8088/fhir/CodeSystem/v3-loinc\n",
      "identifier system: \"urn:ietf:rfc:3986\",  value: \"urn:oid:2.16.840.1.113883.6.1\"\n",
      "\n",
      "SNOMED?\n",
      "GETTING\n",
      "http://localhost:8088/fhir/CodeSystem?name=SNOMED+CT\n",
      "SENDING\n",
      "HTTP STATUS OK 200\n",
      "Not Present\n",
      "\n",
      "ICD-10?\n",
      "GETTING\n",
      "http://localhost:8088/fhir/CodeSystem?name=ICD-10-CM\n",
      "SENDING\n",
      "HTTP STATUS OK 200\n",
      "name: ICD-10-CM\n",
      "resourceType:  CodeSystem  id: icd10CM\n",
      "url: http://hl7.org/fhir/sid/icd-10-cm\n",
      "full url: http://localhost:8088/fhir/CodeSystem/icd10CM\n",
      "\n",
      "HPO?\n",
      "GETTING\n",
      "http://localhost:8088/fhir/CodeSystem?name=HPO\n",
      "SENDING\n",
      "HTTP STATUS OK 200\n",
      "name: HPO\n",
      "title: Human Phenotype Ontology\n",
      "resourceType:  CodeSystem  id: HPO\n",
      "url: http://human-phenotype-ontology.org\n",
      "full url: http://localhost:8088/fhir/CodeSystem/HPO\n",
      "\n",
      "CPT4?\n",
      "GETTING\n",
      "http://localhost:8088/fhir/CodeSystem?name=CPT4\n",
      "SENDING\n",
      "HTTP STATUS OK 200\n",
      "Not Present\n",
      "\n",
      "RxNorm\n",
      "GETTING\n",
      "http://localhost:8088/fhir/CodeSystem?name=RxNorm\n",
      "SENDING\n",
      "HTTP STATUS OK 200\n",
      "name: RxNorm\n",
      "title: RxNorm\n",
      "resourceType:  CodeSystem  id: v3-rxNorm\n",
      "url: http://www.nlm.nih.gov/research/umls/rxnorm\n",
      "full url: http://localhost:8088/fhir/CodeSystem/v3-rxNorm\n",
      "identifier system: \"urn:ietf:rfc:3986\",  value: \"urn:oid:2.16.840.1.113883.6.88\"\n",
      "1.1222667694091797\n"
     ]
    }
   ],
   "source": [
    "\n",
    "BASE_URL =\"http://localhost:8088/fhir/\" \n",
    "import time\n",
    "from imports import TimsClient\n",
    "client = TimsClient(BASE_URL, False, True)\n",
    "start = time.time()\n",
    "\n",
    "\n",
    "\n",
    "print(\"LOINC?\")\n",
    "client.summarize_code_system_by_name('LOINC')\n",
    "print(\"\")\n",
    "print(\"SNOMED?\")\n",
    "client.summarize_code_system_by_name('SNOMED CT') # not present\n",
    "print(\"\")\n",
    "print(\"ICD-10?\")\n",
    "client.summarize_code_system_by_name('ICD-10-CM') \n",
    "print(\"\")\n",
    "print(\"HPO?\")\n",
    "client.summarize_code_system_by_name('HPO') \n",
    "print(\"\")\n",
    "print(\"CPT4?\")\n",
    "client.summarize_code_system_by_name('CPT4') # not present\n",
    "print(\"\")\n",
    "print(\"RxNorm\")\n",
    "client.summarize_code_system_by_name('RxNorm') # not present\n",
    "\n",
    "end = time.time()\n",
    "print(end - start)"
   ]
  },
  {
   "cell_type": "code",
   "execution_count": 37,
   "id": "e223a361",
   "metadata": {},
   "outputs": [
    {
     "name": "stdout",
     "output_type": "stream",
     "text": [
      "LOINC?\n",
      "GETTING\n",
      "http://20.119.216.32:8000/r4/CodeSystem?name=LOINC\n",
      "SENDING\n",
      "HTTP STATUS OK 200\n",
      "name: LOINC\n",
      "title: LOINC Code System\n",
      "resourceType:  CodeSystem  id: loinc\n",
      "url: http://loinc.org\n",
      "full url: http://20.119.216.32:8000/r4/CodeSystem/loinc\n",
      "identifier system: \"urn:ietf:rfc:3986\",  value: \"urn:oid:2.16.840.1.113883.6.1\"\n",
      "\n",
      "SNOMED?\n",
      "GETTING\n",
      "http://20.119.216.32:8000/r4/CodeSystem?name=SNOMED+CT\n",
      "SENDING\n",
      "HTTP STATUS OK 200\n",
      "name: SNOMED CT\n",
      "resourceType:  CodeSystem  id: 1\n",
      "url: http://snomed.info/sct\n",
      "full url: http://20.119.216.32:8000/r4/CodeSystem/1\n",
      "\n",
      "ICD-10?\n",
      "GETTING\n",
      "http://20.119.216.32:8000/r4/CodeSystem?name=ICD-10-CM\n",
      "SENDING\n",
      "HTTP STATUS OK 200\n",
      "name: ICD-10-CM\n",
      "resourceType:  CodeSystem  id: 3\n",
      "url: http://hl7.org/fhir/sid/icd-10-cm\n",
      "full url: http://20.119.216.32:8000/r4/CodeSystem/3\n",
      "\n",
      "HPO?\n",
      "GETTING\n",
      "http://20.119.216.32:8000/r4/CodeSystem?name=HPO\n",
      "SENDING\n",
      "HTTP STATUS OK 200\n",
      "name: HPO\n",
      "title: Human Phenotype Ontology Coding\n",
      "resourceType:  CodeSystem  id: 11194\n",
      "url: http://purl.obolibrary.org/obo/hp.fhir\n",
      "full url: http://20.119.216.32:8000/r4/CodeSystem/11194\n",
      "\n",
      "CPT4?\n",
      "GETTING\n",
      "http://20.119.216.32:8000/r4/CodeSystem?name=CPT4\n",
      "SENDING\n",
      "HTTP STATUS OK 200\n",
      "name: CPT4\n",
      "resourceType:  CodeSystem  id: CPT4-2021.Release\n",
      "url: http://hl7.org/fhir/CodeSystem/CPT4-2021 Release\n",
      "full url: http://20.119.216.32:8000/r4/CodeSystem/CPT4-2021.Release\n",
      "\n",
      "RxNorm\n",
      "GETTING\n",
      "http://20.119.216.32:8000/r4/CodeSystem?name=RxNorm\n",
      "SENDING\n",
      "HTTP STATUS OK 200\n",
      "Not Present\n",
      "44.35778617858887\n"
     ]
    }
   ],
   "source": [
    "BASE_URL = \"http://20.119.216.32:8000/r4/\"  # JHU Azure TIMS server\n",
    "import time\n",
    "from imports import TimsClient\n",
    "client = TimsClient(BASE_URL, False, True)\n",
    "start = time.time()\n",
    "\n",
    "print(\"LOINC?\")\n",
    "client.summarize_code_system_by_name('LOINC')\n",
    "print(\"\")\n",
    "print(\"SNOMED?\")\n",
    "client.summarize_code_system_by_name('SNOMED CT') \n",
    "print(\"\")\n",
    "print(\"ICD-10?\")\n",
    "client.summarize_code_system_by_name('ICD-10-CM') \n",
    "print(\"\")\n",
    "print(\"HPO?\")\n",
    "client.summarize_code_system_by_name('HPO') \n",
    "print(\"\")\n",
    "print(\"CPT4?\")\n",
    "client.summarize_code_system_by_name('CPT4') \n",
    "print(\"\")\n",
    "print(\"RxNorm\")\n",
    "client.summarize_code_system_by_name('RxNorm') ### not present\n",
    "\n",
    "end = time.time()\n",
    "print(end - start)"
   ]
  },
  {
   "cell_type": "code",
   "execution_count": null,
   "id": "fd94c053",
   "metadata": {},
   "outputs": [],
   "source": []
  }
 ],
 "metadata": {
  "kernelspec": {
   "display_name": "Python 3 (ipykernel)",
   "language": "python",
   "name": "python3"
  },
  "language_info": {
   "codemirror_mode": {
    "name": "ipython",
    "version": 3
   },
   "file_extension": ".py",
   "mimetype": "text/x-python",
   "name": "python",
   "nbconvert_exporter": "python",
   "pygments_lexer": "ipython3",
   "version": "3.9.6"
  }
 },
 "nbformat": 4,
 "nbformat_minor": 5
}
