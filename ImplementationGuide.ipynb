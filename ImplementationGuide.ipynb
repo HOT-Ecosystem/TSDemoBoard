{
 "cells": [
  {
   "cell_type": "markdown",
   "id": "266cc6d5",
   "metadata": {},
   "source": [
    "# Demo Notebook - ImplementationGuide"
   ]
  },
  {
   "cell_type": "code",
   "execution_count": 3,
   "id": "3c144a36-117c-42a0-9109-df73433e8267",
   "metadata": {
    "scrolled": false
   },
   "outputs": [],
   "source": [
    "\n",
    "BASE_URL =\"http://localhost:8001/fhir/\" \n",
    "#BASE_URL = \"http://20.119.216.32:8000/r4/\"  # JHU Azure TIMS server\n",
    "\n",
    "from imports import TimsClient\n",
    "client = TimsClient(BASE_URL, True)"
   ]
  },
  {
   "cell_type": "markdown",
   "id": "a9ebc889",
   "metadata": {},
   "source": [
    "## ImplementationGuide Search\n",
    "https://hl7.org/fhir/http.html#search "
   ]
  },
  {
   "cell_type": "markdown",
   "id": "ad5dd31c",
   "metadata": {},
   "source": [
    "Details of a single code system:"
   ]
  },
  {
   "cell_type": "code",
   "execution_count": 4,
   "id": "1b72e011",
   "metadata": {},
   "outputs": [
    {
     "name": "stdout",
     "output_type": "stream",
     "text": [
      "GETTING\n",
      "http://localhost:8001/fhir//ImplementationGuide\n",
      "SENDING\n",
      "HTTP STATUS OK 200\n",
      "\n",
      "dict_keys(['resourceType', 'id', 'meta', 'type', 'total', 'link'])\n",
      "Bundle\n",
      "085c4b04-5316-442d-9cf7-bccc45bb0f66\n",
      "{'lastUpdated': '2022-12-23T09:26:54.942-07:00'}\n",
      "searchset\n",
      "[{'relation': 'self', 'url': 'http://localhost:8001/fhir//ImplementationGuide'}]\n",
      "0\n",
      "==========================\n"
     ]
    }
   ],
   "source": [
    "response = client.do_hapi_get_request(\"/ImplementationGuide\", {})\n",
    "print(\"\")\n",
    "print(response.keys())\n",
    "print(response['resourceType']) # Bundle\n",
    "print(response['id']) # hash\n",
    "print(response['meta']) # lastUpdated 2022-12-22\n",
    "print(response['type']) # searchset\n",
    "print(response['link']) # ...pages?\n",
    "print(response['total'])\n",
    "print(\"==========================\")\n",
    "\n"
   ]
  },
  {
   "cell_type": "code",
   "execution_count": 94,
   "id": "fd5a0eba",
   "metadata": {},
   "outputs": [
    {
     "name": "stdout",
     "output_type": "stream",
     "text": [
      "GETTING\n",
      "http://localhost:8001/fhir//ValueSet?url=http%3A%2F%2Floinc.org%2Fvs%2FLL1000-0\n",
      "SENDING\n",
      "HTTP STATUS OK 200\n",
      "{'resourceType': 'Bundle', 'id': 'bd4885a7-aadb-4264-a6be-a6cdf298257c', 'meta': {'lastUpdated': '2022-12-22T16:30:09.007-07:00'}, 'type': 'searchset', 'total': 1, 'link': [{'relation': 'self', 'url': 'http://localhost:8001/fhir//ValueSet?url=http%3A%2F%2Floinc.org%2Fvs%2FLL1000-0'}], 'entry': [{'fullUrl': 'http://localhost:8001/fhir/ValueSet/LL1000-0', 'resource': {'resourceType': 'ValueSet', 'id': 'LL1000-0', 'meta': {'versionId': '1', 'lastUpdated': '2022-12-16T14:50:54.767-07:00'}, 'url': 'http://loinc.org/vs/LL1000-0', 'identifier': [{'system': 'urn:ietf:rfc:3986', 'value': 'urn:oid:1.3.6.1.4.1.12009.10.1.165'}], 'version': 'Beta.1', 'name': 'PhenX05_13_30D bread amt', 'status': 'active', 'publisher': 'Regenstrief Institute, Inc.', 'contact': [{'name': 'Regenstrief Institute, Inc.', 'telecom': [{'system': 'url', 'value': 'https://loinc.org'}]}], 'copyright': 'This material contains content from LOINC (http://loinc.org). LOINC is copyright ©1995-2022, Regenstrief Institute, Inc. and the Logical Observation Identifiers Names and Codes (LOINC) Committee and is available at no cost under the license at http://loinc.org/license. LOINC® is a registered United States trademark of Regenstrief Institute, Inc.', 'compose': {'include': [{'system': 'http://loinc.org', 'concept': [{'code': 'LA13825-7', 'display': '1 slice or 1 dinner roll'}, {'code': 'LA13838-0', 'display': '2 slices or 2 dinner rolls'}, {'code': 'LA13892-7', 'display': 'More than 2 slices or 2 dinner rolls'}]}]}}, 'search': {'mode': 'match'}}]}\n"
     ]
    }
   ],
   "source": [
    "# Example\n",
    "# GET [base]/ValueSet/23/$validate-code?system=http://loinc.org&code=1963-8&display=test\n",
    "\n",
    "# 404\n",
    "#response = client.do_hapi_get_request(\"/ValueSet/LL1000-9\", {})\n",
    "\n",
    "#400\n",
    "#response = client.do_hapi_get_request(\"/ValueSet/http://loinc.org/vs/LL1000-0\", {})\n",
    "#response = client.do_hapi_get_request(\"/ValueSet/http://loinc.org/vs/LL1000-0/\", {})\n",
    "#response = client.do_hapi_get_request(\"/ValueSet/7642/\", {})\n",
    "\n",
    "# 200!\n",
    "#response = client.do_hapi_get_request(\"/ValueSet/?_id=7642\", {}) # Danger: I cheated and looked up this ID in the database...\n",
    "#response = client.do_hapi_get_request(\"/ValueSet?_id=LL1000-0\", {})\n",
    "#response = client.do_hapi_get_request(\"/ValueSet?identifier=urn:oid:1.3.6.1.4.1.12009.10.1.165\", {})\n",
    "#response = client.do_hapi_get_request(\"/ValueSet?name=PhenX05_13_30D\", {})\n",
    "#response = client.do_hapi_get_request(\"/ValueSet?name=PhenX05_13_30D bread amt\", {})\n",
    "# substrings work? indeed.\n",
    "#response = client.do_hapi_get_request(\"/ValueSet?name=PhenX05_13_30D bre\", {})\n",
    "response = client.do_hapi_get_request(\"/ValueSet?url=http://loinc.org/vs/LL1000-0\", {})\n",
    "print(response)\n",
    "\n"
   ]
  },
  {
   "cell_type": "code",
   "execution_count": 97,
   "id": "acde11a6",
   "metadata": {},
   "outputs": [
    {
     "name": "stdout",
     "output_type": "stream",
     "text": [
      "GETTING\n",
      "http://localhost:8001/fhir//ValueSet?code=LA13825-7\n",
      "SENDING\n",
      "HTTP STATUS OK 200\n",
      "{'resourceType': 'Bundle', 'id': 'e4bcb63f-28ed-4385-bbe4-c5857d445d64', 'meta': {'lastUpdated': '2022-12-22T16:32:16.433-07:00'}, 'type': 'searchset', 'total': 1, 'link': [{'relation': 'self', 'url': 'http://localhost:8001/fhir//ValueSet?code=LA13825-7'}], 'entry': [{'fullUrl': 'http://localhost:8001/fhir/ValueSet/LL1000-0', 'resource': {'resourceType': 'ValueSet', 'id': 'LL1000-0', 'meta': {'versionId': '1', 'lastUpdated': '2022-12-16T14:50:54.767-07:00'}, 'url': 'http://loinc.org/vs/LL1000-0', 'identifier': [{'system': 'urn:ietf:rfc:3986', 'value': 'urn:oid:1.3.6.1.4.1.12009.10.1.165'}], 'version': 'Beta.1', 'name': 'PhenX05_13_30D bread amt', 'status': 'active', 'publisher': 'Regenstrief Institute, Inc.', 'contact': [{'name': 'Regenstrief Institute, Inc.', 'telecom': [{'system': 'url', 'value': 'https://loinc.org'}]}], 'copyright': 'This material contains content from LOINC (http://loinc.org). LOINC is copyright ©1995-2022, Regenstrief Institute, Inc. and the Logical Observation Identifiers Names and Codes (LOINC) Committee and is available at no cost under the license at http://loinc.org/license. LOINC® is a registered United States trademark of Regenstrief Institute, Inc.', 'compose': {'include': [{'system': 'http://loinc.org', 'concept': [{'code': 'LA13825-7', 'display': '1 slice or 1 dinner roll'}, {'code': 'LA13838-0', 'display': '2 slices or 2 dinner rolls'}, {'code': 'LA13892-7', 'display': 'More than 2 slices or 2 dinner rolls'}]}]}}, 'search': {'mode': 'match'}}]}\n",
      "dict_keys(['fullUrl', 'resource', 'search'])\n",
      "http://loinc.org/vs/LL1000-0\n",
      "id:LL1000-0\n",
      "name:PhenX05_13_30D bread amt\n"
     ]
    }
   ],
   "source": [
    "# MONEY!\n",
    "response = client.do_hapi_get_request(\"/ValueSet?code=LA13825-7\", {})\n",
    "print(response)\n",
    "for entry in response['entry']:\n",
    "    print(entry.keys())\n",
    "    er = entry['resource']\n",
    "    print(er['url'])\n",
    "    print(\"id:\" + er['id'])\n",
    "    print(\"name:\" + er['name'])\n"
   ]
  },
  {
   "cell_type": "code",
   "execution_count": 98,
   "id": "0fa191eb",
   "metadata": {},
   "outputs": [
    {
     "name": "stdout",
     "output_type": "stream",
     "text": [
      "GETTING\n",
      "http://localhost:8001/fhir//ValueSet?_system=http%3A%2F%2Floinc.org\n",
      "SENDING\n",
      "HTTP STATUS OK 200\n",
      "{'resourceType': 'Bundle', 'id': 'dd19193c-b744-4dc9-847f-d73980a4562f', 'meta': {'lastUpdated': '2022-12-22T16:32:47.836-07:00'}, 'type': 'searchset', 'link': [{'relation': 'self', 'url': 'http://localhost:8001/fhir//ValueSet?_system=http%3A%2F%2Floinc.org'}, {'relation': 'next', 'url': 'http://localhost:8001/fhir?_getpages=dd19193c-b744-4dc9-847f-d73980a4562f&_getpagesoffset=20&_count=20&_pretty=true&_bundletype=searchset'}], 'entry': [{'fullUrl': 'http://localhost:8001/fhir/ValueSet/LL1000-0', 'resource': {'resourceType': 'ValueSet', 'id': 'LL1000-0', 'meta': {'versionId': '1', 'lastUpdated': '2022-12-16T14:50:54.767-07:00'}, 'url': 'http://loinc.org/vs/LL1000-0', 'identifier': [{'system': 'urn:ietf:rfc:3986', 'value': 'urn:oid:1.3.6.1.4.1.12009.10.1.165'}], 'version': 'Beta.1', 'name': 'PhenX05_13_30D bread amt', 'status': 'active', 'publisher': 'Regenstrief Institute, Inc.', 'contact': [{'name': 'Regenstrief Institute, Inc.', 'telecom': [{'system': 'url', 'value': 'https://loinc.org'}]}], 'copyright': 'This material contains content from LOINC (http://loinc.org). LOINC is copyright ©1995-2022, Regenstrief Institute, Inc. and the Logical Observation Identifiers Names and Codes (LOINC) Committee and is available at no cost under the license at http://loinc.org/license. LOINC® is a registered United States trademark of Regenstrief Institute, Inc.', 'compose': {'include': [{'system': 'http://loinc.org', 'concept': [{'code': 'LA13825-7', 'display': '1 slice or 1 dinner roll'}, {'code': 'LA13838-0', 'display': '2 slices or 2 dinner rolls'}, {'code': 'LA13892-7', 'display': 'More than 2 slices or 2 dinner rolls'}]}]}}, 'search': {'mode': 'match'}}, {'fullUrl': 'http://localhost:8001/fhir/ValueSet/LL1001-8', 'resource': {'resourceType': 'ValueSet', 'id': 'LL1001-8', 'meta': {'versionId': '1', 'lastUpdated': '2022-12-16T14:50:54.793-07:00'}, 'url': 'http://loinc.org/vs/LL1001-8', 'identifier': [{'system': 'urn:ietf:rfc:3986', 'value': 'urn:oid:1.3.6.1.4.1.12009.10.1.166'}], 'version': 'Beta.1', 'name': 'PhenX05_14_30D freq amts', 'status': 'active', 'publisher': 'Regenstrief Institute, Inc.', 'contact': [{'name': 'Regenstrief Institute, Inc.', 'telecom': [{'system': 'url', 'value': 'https://loinc.org'}]}], 'copyright': 'This material contains content from LOINC (http://loinc.org). LOINC is copyright ©1995-2022, Regenstrief Institute, Inc. and the Logical Observation Identifiers Names and Codes (LOINC) Committee and is available at no cost under the license at http://loinc.org/license. LOINC® is a registered United States trademark of Regenstrief Institute, Inc.', 'compose': {'include': [{'system': 'http://loinc.org', 'concept': [{'code': 'LA6270-8', 'display': 'Never'}, {'code': 'LA13836-4', 'display': '1-3 times per month'}, {'code': 'LA13834-9', 'display': '1-2 times per week'}, {'code': 'LA13853-9', 'display': '3-4 times per week'}, {'code': 'LA13860-4', 'display': '5-6 times per week'}, {'code': 'LA13827-3', 'display': '1 time per day'}, {'code': 'LA13840-6', 'display': '2 times per day'}, {'code': 'LA13851-3', 'display': '3 times per day'}, {'code': 'LA13854-7', 'display': '4 times per day'}, {'code': 'LA13858-8', 'display': '5 or more times per day'}, {'code': 'LA4389-8', 'display': 'Refused'}, {'code': 'LA12688-0', 'display': \"Don't know\"}]}]}}, 'search': {'mode': 'match'}}, {'fullUrl': 'http://localhost:8001/fhir/ValueSet/LL1002-6', 'resource': {'resourceType': 'ValueSet', 'id': 'LL1002-6', 'meta': {'versionId': '1', 'lastUpdated': '2022-12-16T14:50:54.804-07:00'}, 'url': 'http://loinc.org/vs/LL1002-6', 'identifier': [{'system': 'urn:ietf:rfc:3986', 'value': 'urn:oid:1.3.6.1.4.1.12009.10.1.167'}], 'version': 'Beta.1', 'name': 'PhenX05_15_30D cereal amt', 'status': 'active', 'publisher': 'Regenstrief Institute, Inc.', 'contact': [{'name': 'Regenstrief Institute, Inc.', 'telecom': [{'system': 'url', 'value': 'https://loinc.org'}]}], 'copyright': 'This material contains content from LOINC (http://loinc.org). LOINC is copyright ©1995-2022, Regenstrief Institute, Inc. and the Logical Observation Identifiers Names and Codes (LOINC) Committee and is available at no cost under the license at http://loinc.org/license. LOINC® is a registered United States trademark of Regenstrief Institute, Inc.', 'compose': {'include': [{'system': 'http://loinc.org', 'concept': [{'code': 'LA13872-9', 'display': 'Cooked cereals (such as oatmeal, cream of wheat, grits)'}, {'code': 'LA13864-6', 'display': 'All bran cereals (such as All Bran®, Fiber One®, 100% Bran®, or Bran Buds®)'}, {'code': 'LA13870-3', 'display': 'Cereals with some bran or fiber (such as Cheerios®, Raisin Bran®, Shredded Wheat®, Total®, Wheaties®, 40% Bran flakes®, Granola, Grape Nuts®, Muselix®, etc.)'}, {'code': 'LA13869-5', 'display': \"Cereals with little bran or fiber (such as Corn Flakes®, Honey Nut Cheerios®, Froot Loops®, Rice Krispies®, Kix®, Frosted Flakes®, Special K®, Cap'n Crunch®, Blueberry Morning®, Product 19®, etc.)\"}, {'code': 'LA46-8', 'display': 'Other'}, {'code': 'LA4389-8', 'display': 'Refused'}, {'code': 'LA12688-0', 'display': \"Don't know\"}]}]}}, 'search': {'mode': 'match'}}, {'fullUrl': 'http://localhost:8001/fhir/ValueSet/LL1003-4', 'resource': {'resourceType': 'ValueSet', 'id': 'LL1003-4', 'meta': {'versionId': '1', 'lastUpdated': '2022-12-16T14:50:54.815-07:00'}, 'url': 'http://loinc.org/vs/LL1003-4', 'identifier': [{'system': 'urn:ietf:rfc:3986', 'value': 'urn:oid:1.3.6.1.4.1.12009.10.1.168'}], 'version': 'Beta.1', 'name': 'PhenX05_16_beverage amts', 'status': 'active', 'publisher': 'Regenstrief Institute, Inc.', 'contact': [{'name': 'Regenstrief Institute, Inc.', 'telecom': [{'system': 'url', 'value': 'https://loinc.org'}]}], 'copyright': 'This material contains content from LOINC (http://loinc.org). LOINC is copyright ©1995-2022, Regenstrief Institute, Inc. and the Logical Observation Identifiers Names and Codes (LOINC) Committee and is available at no cost under the license at http://loinc.org/license. LOINC® is a registered United States trademark of Regenstrief Institute, Inc.', 'compose': {'include': [{'system': 'http://loinc.org', 'concept': [{'code': 'LA13894-3', 'display': 'Never or less than 1 time per month'}, {'code': 'LA13836-4', 'display': '1-3 times per month'}, {'code': 'LA13829-9', 'display': '1 time per week'}, {'code': 'LA13846-3', 'display': '2-4 times per week'}, {'code': 'LA13860-4', 'display': '5-6 times per week'}, {'code': 'LA13827-3', 'display': '1 time per day'}, {'code': 'LA13844-8', 'display': '2-3 times per day'}, {'code': 'LA13856-2', 'display': '4-5 times per day'}, {'code': 'LA13861-2', 'display': '6 or more times per day'}]}]}}, 'search': {'mode': 'match'}}, {'fullUrl': 'http://localhost:8001/fhir/ValueSet/LL1004-2', 'resource': {'resourceType': 'ValueSet', 'id': 'LL1004-2', 'meta': {'versionId': '1', 'lastUpdated': '2022-12-16T14:50:54.830-07:00'}, 'url': 'http://loinc.org/vs/LL1004-2', 'identifier': [{'system': 'urn:ietf:rfc:3986', 'value': 'urn:oid:1.3.6.1.4.1.12009.10.1.169'}], 'version': 'Beta.1', 'name': 'PhenX05_17_serving size', 'status': 'active', 'publisher': 'Regenstrief Institute, Inc.', 'contact': [{'name': 'Regenstrief Institute, Inc.', 'telecom': [{'system': 'url', 'value': 'https://loinc.org'}]}], 'copyright': 'This material contains content from LOINC (http://loinc.org). LOINC is copyright ©1995-2022, Regenstrief Institute, Inc. and the Logical Observation Identifiers Names and Codes (LOINC) Committee and is available at no cost under the license at http://loinc.org/license. LOINC® is a registered United States trademark of Regenstrief Institute, Inc.', 'compose': {'include': [{'system': 'http://loinc.org', 'concept': [{'code': 'LA8983-4', 'display': 'Small'}, {'code': 'LA8982-6', 'display': 'Medium'}, {'code': 'LA8981-8', 'display': 'Large'}]}]}}, 'search': {'mode': 'match'}}, {'fullUrl': 'http://localhost:8001/fhir/ValueSet/LL1005-9', 'resource': {'resourceType': 'ValueSet', 'id': 'LL1005-9', 'meta': {'versionId': '1', 'lastUpdated': '2022-12-16T14:50:54.835-07:00'}, 'url': 'http://loinc.org/vs/LL1005-9', 'identifier': [{'system': 'urn:ietf:rfc:3986', 'value': 'urn:oid:1.3.6.1.4.1.12009.10.1.170'}], 'version': 'Beta.1', 'name': 'PhenX05_18_dietary supplements', 'status': 'active', 'publisher': 'Regenstrief Institute, Inc.', 'contact': [{'name': 'Regenstrief Institute, Inc.', 'telecom': [{'system': 'url', 'value': 'https://loinc.org'}]}], 'copyright': 'This material contains content from LOINC (http://loinc.org). LOINC is copyright ©1995-2022, Regenstrief Institute, Inc. and the Logical Observation Identifiers Names and Codes (LOINC) Committee and is available at no cost under the license at http://loinc.org/license. LOINC® is a registered United States trademark of Regenstrief Institute, Inc.', 'compose': {'include': [{'system': 'http://loinc.org', 'concept': [{'code': 'LA33-6', 'display': 'Yes'}, {'code': 'LA32-8', 'display': 'No'}]}]}}, 'search': {'mode': 'match'}}, {'fullUrl': 'http://localhost:8001/fhir/ValueSet/LL1006-7', 'resource': {'resourceType': 'ValueSet', 'id': 'LL1006-7', 'meta': {'versionId': '1', 'lastUpdated': '2022-12-16T14:50:54.840-07:00'}, 'url': 'http://loinc.org/vs/LL1006-7', 'identifier': [{'system': 'urn:ietf:rfc:3986', 'value': 'urn:oid:1.3.6.1.4.1.12009.10.1.171'}], 'version': 'Beta.1', 'name': 'PhenX05_19_vitamin freq', 'status': 'active', 'publisher': 'Regenstrief Institute, Inc.', 'contact': [{'name': 'Regenstrief Institute, Inc.', 'telecom': [{'system': 'url', 'value': 'https://loinc.org'}]}], 'copyright': 'This material contains content from LOINC (http://loinc.org). LOINC is copyright ©1995-2022, Regenstrief Institute, Inc. and the Logical Observation Identifiers Names and Codes (LOINC) Committee and is available at no cost under the license at http://loinc.org/license. LOINC® is a registered United States trademark of Regenstrief Institute, Inc.', 'compose': {'include': [{'system': 'http://loinc.org', 'concept': [{'code': 'LA13830-7', 'display': '1 to 3 times a week'}, {'code': 'LA13855-4', 'display': '4 to 6 times a week'}, {'code': 'LA13897-6', 'display': 'Once a day'}]}]}}, 'search': {'mode': 'match'}}, {'fullUrl': 'http://localhost:8001/fhir/ValueSet/LL1007-5', 'resource': {'resourceType': 'ValueSet', 'id': 'LL1007-5', 'meta': {'versionId': '1', 'lastUpdated': '2022-12-16T14:50:54.844-07:00'}, 'url': 'http://loinc.org/vs/LL1007-5', 'identifier': [{'system': 'urn:ietf:rfc:3986', 'value': 'urn:oid:1.3.6.1.4.1.12009.10.1.172'}], 'version': 'Beta.1', 'name': 'PhenX05_20_Ys vitamin use', 'status': 'active', 'publisher': 'Regenstrief Institute, Inc.', 'contact': [{'name': 'Regenstrief Institute, Inc.', 'telecom': [{'system': 'url', 'value': 'https://loinc.org'}]}], 'copyright': 'This material contains content from LOINC (http://loinc.org). LOINC is copyright ©1995-2022, Regenstrief Institute, Inc. and the Logical Observation Identifiers Names and Codes (LOINC) Committee and is available at no cost under the license at http://loinc.org/license. LOINC® is a registered United States trademark of Regenstrief Institute, Inc.', 'compose': {'include': [{'system': 'http://loinc.org', 'concept': [{'code': 'LA13831-5', 'display': '1 year or less'}, {'code': 'LA13841-4', 'display': '2 to 4 years'}, {'code': 'LA13859-6', 'display': '5 to 9 years'}, {'code': 'LA13833-1', 'display': '10 years or more'}]}]}}, 'search': {'mode': 'match'}}, {'fullUrl': 'http://localhost:8001/fhir/ValueSet/LL1008-3', 'resource': {'resourceType': 'ValueSet', 'id': 'LL1008-3', 'meta': {'versionId': '1', 'lastUpdated': '2022-12-16T14:50:54.849-07:00'}, 'url': 'http://loinc.org/vs/LL1008-3', 'identifier': [{'system': 'urn:ietf:rfc:3986', 'value': 'urn:oid:1.3.6.1.4.1.12009.10.1.173'}], 'version': 'Beta.1', 'name': 'PhenX05_21_vit C amt', 'status': 'active', 'publisher': 'Regenstrief Institute, Inc.', 'contact': [{'name': 'Regenstrief Institute, Inc.', 'telecom': [{'system': 'url', 'value': 'https://loinc.org'}]}], 'copyright': 'This material contains content from LOINC (http://loinc.org). LOINC is copyright ©1995-2022, Regenstrief Institute, Inc. and the Logical Observation Identifiers Names and Codes (LOINC) Committee and is available at no cost under the license at http://loinc.org/license. LOINC® is a registered United States trademark of Regenstrief Institute, Inc.', 'compose': {'include': [{'system': 'http://loinc.org', 'concept': [{'code': 'LA13847-1', 'display': '250 mg or less'}, {'code': 'LA13852-1', 'display': '300 to 500 mg'}, {'code': 'LA13862-0', 'display': '600 to 1000 mg'}, {'code': 'LA13891-9', 'display': 'More than 1000 mg'}]}]}}, 'search': {'mode': 'match'}}, {'fullUrl': 'http://localhost:8001/fhir/ValueSet/LL100-9', 'resource': {'resourceType': 'ValueSet', 'id': 'LL100-9', 'meta': {'versionId': '1', 'lastUpdated': '2022-12-16T14:50:54.854-07:00'}, 'url': 'http://loinc.org/vs/LL100-9', 'identifier': [{'system': 'urn:ietf:rfc:3986', 'value': 'urn:oid:1.3.6.1.4.1.12009.10.1.174'}], 'version': 'Beta.1', 'name': 'CR_1430_Reason no radiation', 'status': 'active', 'publisher': 'Regenstrief Institute, Inc.', 'contact': [{'name': 'Regenstrief Institute, Inc.', 'telecom': [{'system': 'url', 'value': 'https://loinc.org'}]}], 'copyright': 'This material contains content from LOINC (http://loinc.org). LOINC is copyright ©1995-2022, Regenstrief Institute, Inc. and the Logical Observation Identifiers Names and Codes (LOINC) Committee and is available at no cost under the license at http://loinc.org/license. LOINC® is a registered United States trademark of Regenstrief Institute, Inc.', 'compose': {'include': [{'system': 'http://loinc.org', 'concept': [{'code': 'LA4347-6', 'display': 'Radiation Rx Performed'}, {'code': 'LA4348-4', 'display': 'Radiation Rx not recommended'}, {'code': 'LA4217-1', 'display': 'Contraindicated, Autopsy Only'}, {'code': 'LA4644-6', 'display': 'Patient Died Prior to Treatment'}, {'code': 'LA4393-0', 'display': 'Reason Unknown for Rad Rx'}, {'code': 'LA4389-8', 'display': 'Refused'}, {'code': 'LA4353-4', 'display': 'Rad Rx Recommend but unknown of Admin'}, {'code': 'LA4444-1', 'display': 'Unknown - Death Cert Only'}]}]}}, 'search': {'mode': 'match'}}, {'fullUrl': 'http://localhost:8001/fhir/ValueSet/LL1009-1', 'resource': {'resourceType': 'ValueSet', 'id': 'LL1009-1', 'meta': {'versionId': '1', 'lastUpdated': '2022-12-16T14:50:54.858-07:00'}, 'url': 'http://loinc.org/vs/LL1009-1', 'identifier': [{'system': 'urn:ietf:rfc:3986', 'value': 'urn:oid:1.3.6.1.4.1.12009.10.1.175'}], 'version': 'Beta.1', 'name': 'PhenX05_22_vit E amt', 'status': 'active', 'publisher': 'Regenstrief Institute, Inc.', 'contact': [{'name': 'Regenstrief Institute, Inc.', 'telecom': [{'system': 'url', 'value': 'https://loinc.org'}]}], 'copyright': 'This material contains content from LOINC (http://loinc.org). LOINC is copyright ©1995-2022, Regenstrief Institute, Inc. and the Logical Observation Identifiers Names and Codes (LOINC) Committee and is available at no cost under the license at http://loinc.org/license. LOINC® is a registered United States trademark of Regenstrief Institute, Inc.', 'compose': {'include': [{'system': 'http://loinc.org', 'concept': [{'code': 'LA13843-0', 'display': '200 IU or less'}, {'code': 'LA13848-9', 'display': '250 to 400 IU'}, {'code': 'LA13857-0', 'display': '450 to 1000 IU'}, {'code': 'LA13890-1', 'display': 'More than 1000 IU'}]}]}}, 'search': {'mode': 'match'}}, {'fullUrl': 'http://localhost:8001/fhir/ValueSet/LL1010-9', 'resource': {'resourceType': 'ValueSet', 'id': 'LL1010-9', 'meta': {'versionId': '1', 'lastUpdated': '2022-12-16T14:50:54.863-07:00'}, 'url': 'http://loinc.org/vs/LL1010-9', 'identifier': [{'system': 'urn:ietf:rfc:3986', 'value': 'urn:oid:1.3.6.1.4.1.12009.10.1.176'}], 'version': 'Beta.1', 'name': 'PhenX05_23_food freq', 'status': 'active', 'publisher': 'Regenstrief Institute, Inc.', 'contact': [{'name': 'Regenstrief Institute, Inc.', 'telecom': [{'system': 'url', 'value': 'https://loinc.org'}]}], 'copyright': 'This material contains content from LOINC (http://loinc.org). LOINC is copyright ©1995-2022, Regenstrief Institute, Inc. and the Logical Observation Identifiers Names and Codes (LOINC) Committee and is available at no cost under the license at http://loinc.org/license. LOINC® is a registered United States trademark of Regenstrief Institute, Inc.', 'compose': {'include': [{'system': 'http://loinc.org', 'concept': [{'code': 'LA6270-8', 'display': 'Never'}, {'code': 'LA6251-8', 'display': 'Less than once a month'}, {'code': 'LA13836-4', 'display': '1-3 times per month'}, {'code': 'LA13834-9', 'display': '1-2 times per week'}, {'code': 'LA13853-9', 'display': '3-4 times per week'}, {'code': 'LA13860-4', 'display': '5-6 times per week'}, {'code': 'LA13827-3', 'display': '1 time per day'}, {'code': 'LA13837-2', 'display': '2 or more times per day'}]}]}}, 'search': {'mode': 'match'}}, {'fullUrl': 'http://localhost:8001/fhir/ValueSet/LL1011-7', 'resource': {'resourceType': 'ValueSet', 'id': 'LL1011-7', 'meta': {'versionId': '1', 'lastUpdated': '2022-12-16T14:50:54.870-07:00'}, 'url': 'http://loinc.org/vs/LL1011-7', 'identifier': [{'system': 'urn:ietf:rfc:3986', 'value': 'urn:oid:1.3.6.1.4.1.12009.10.1.177'}], 'version': 'Beta.1', 'name': 'PhenX05_24_margarine freq', 'status': 'active', 'publisher': 'Regenstrief Institute, Inc.', 'contact': [{'name': 'Regenstrief Institute, Inc.', 'telecom': [{'system': 'url', 'value': 'https://loinc.org'}]}], 'copyright': 'This material contains content from LOINC (http://loinc.org). LOINC is copyright ©1995-2022, Regenstrief Institute, Inc. and the Logical Observation Identifiers Names and Codes (LOINC) Committee and is available at no cost under the license at http://loinc.org/license. LOINC® is a registered United States trademark of Regenstrief Institute, Inc.', 'compose': {'include': [{'system': 'http://loinc.org', 'concept': [{'code': 'LA13933-9', 'display': \"Didn't use margarine\"}, {'code': 'LA13866-1', 'display': 'Almost never'}, {'code': 'LA13934-7', 'display': 'About 1/4 of the time'}, {'code': 'LA13935-4', 'display': 'About 1/2 of the time'}, {'code': 'LA13936-2', 'display': 'About 3/4 of the time'}, {'code': 'LA13927-1', 'display': 'Almost always or always'}]}]}}, 'search': {'mode': 'match'}}, {'fullUrl': 'http://localhost:8001/fhir/ValueSet/LL1012-5', 'resource': {'resourceType': 'ValueSet', 'id': 'LL1012-5', 'meta': {'versionId': '1', 'lastUpdated': '2022-12-16T14:50:54.880-07:00'}, 'url': 'http://loinc.org/vs/LL1012-5', 'identifier': [{'system': 'urn:ietf:rfc:3986', 'value': 'urn:oid:1.3.6.1.4.1.12009.10.1.178'}], 'version': 'Beta.1', 'name': '[PROMIS] Excellent|Very good|Good|Fair|Poor', 'status': 'active', 'publisher': 'Regenstrief Institute, Inc.', 'contact': [{'name': 'Regenstrief Institute, Inc.', 'telecom': [{'system': 'url', 'value': 'https://loinc.org'}]}], 'copyright': 'This material contains content from LOINC (http://loinc.org). LOINC is copyright ©1995-2022, Regenstrief Institute, Inc. and the Logical Observation Identifiers Names and Codes (LOINC) Committee and is available at no cost under the license at http://loinc.org/license. LOINC® is a registered United States trademark of Regenstrief Institute, Inc.', 'compose': {'include': [{'system': 'http://loinc.org', 'concept': [{'code': 'LA9206-9', 'display': 'Excellent'}, {'code': 'LA13913-1', 'display': 'Very Good'}, {'code': 'LA8967-7', 'display': 'Good'}, {'code': 'LA8968-5', 'display': 'Fair'}, {'code': 'LA8969-3', 'display': 'Poor'}]}]}}, 'search': {'mode': 'match'}}, {'fullUrl': 'http://localhost:8001/fhir/ValueSet/LL1013-3', 'resource': {'resourceType': 'ValueSet', 'id': 'LL1013-3', 'meta': {'versionId': '1', 'lastUpdated': '2022-12-16T14:50:54.885-07:00'}, 'url': 'http://loinc.org/vs/LL1013-3', 'identifier': [{'system': 'urn:ietf:rfc:3986', 'value': 'urn:oid:1.3.6.1.4.1.12009.10.1.179'}], 'version': 'Beta.1', 'name': '[PROMIS] Completely|Mostly|Mod|A little|Not at all', 'status': 'active', 'publisher': 'Regenstrief Institute, Inc.', 'contact': [{'name': 'Regenstrief Institute, Inc.', 'telecom': [{'system': 'url', 'value': 'https://loinc.org'}]}], 'copyright': 'This material contains content from LOINC (http://loinc.org). LOINC is copyright ©1995-2022, Regenstrief Institute, Inc. and the Logical Observation Identifiers Names and Codes (LOINC) Committee and is available at no cost under the license at http://loinc.org/license. LOINC® is a registered United States trademark of Regenstrief Institute, Inc.', 'compose': {'include': [{'system': 'http://loinc.org', 'concept': [{'code': 'LA13937-0', 'display': 'Completely'}, {'code': 'LA13938-8', 'display': 'Mostly'}, {'code': 'LA13939-6', 'display': 'Moderately'}, {'code': 'LA13940-4', 'display': 'A little'}, {'code': 'LA6568-5', 'display': 'Not at all'}]}]}}, 'search': {'mode': 'match'}}, {'fullUrl': 'http://localhost:8001/fhir/ValueSet/LL1014-1', 'resource': {'resourceType': 'ValueSet', 'id': 'LL1014-1', 'meta': {'versionId': '1', 'lastUpdated': '2022-12-16T14:50:54.888-07:00'}, 'url': 'http://loinc.org/vs/LL1014-1', 'identifier': [{'system': 'urn:ietf:rfc:3986', 'value': 'urn:oid:1.3.6.1.4.1.12009.10.1.180'}], 'version': 'Beta.1', 'name': '[PROMIS] 0-no pain|1|2|3|4|5|6|7|8|9|10-worst imag', 'status': 'active', 'publisher': 'Regenstrief Institute, Inc.', 'contact': [{'name': 'Regenstrief Institute, Inc.', 'telecom': [{'system': 'url', 'value': 'https://loinc.org'}]}], 'copyright': 'This material contains content from LOINC (http://loinc.org). LOINC is copyright ©1995-2022, Regenstrief Institute, Inc. and the Logical Observation Identifiers Names and Codes (LOINC) Committee and is available at no cost under the license at http://loinc.org/license. LOINC® is a registered United States trademark of Regenstrief Institute, Inc.', 'compose': {'include': [{'system': 'http://loinc.org', 'concept': [{'code': 'LA19102-5', 'display': '0 - no pain'}, {'code': 'LA6112-2', 'display': '1'}, {'code': 'LA6113-0', 'display': '2'}, {'code': 'LA6114-8', 'display': '3'}, {'code': 'LA6115-5', 'display': '4'}, {'code': 'LA10137-0', 'display': '5'}, {'code': 'LA10138-8', 'display': '6'}, {'code': 'LA10139-6', 'display': '7'}, {'code': 'LA10140-4', 'display': '8'}, {'code': 'LA10141-2', 'display': '9'}, {'code': 'LA21948-7', 'display': '10 - worst imaginable pain'}]}]}}, 'search': {'mode': 'match'}}, {'fullUrl': 'http://localhost:8001/fhir/ValueSet/LL1015-8', 'resource': {'resourceType': 'ValueSet', 'id': 'LL1015-8', 'meta': {'versionId': '1', 'lastUpdated': '2022-12-16T14:50:54.892-07:00'}, 'url': 'http://loinc.org/vs/LL1015-8', 'identifier': [{'system': 'urn:ietf:rfc:3986', 'value': 'urn:oid:1.3.6.1.4.1.12009.10.1.181'}], 'version': 'Beta.1', 'name': '[PROMIS] None|Mild|Moderate|Severe|Very severe', 'status': 'active', 'publisher': 'Regenstrief Institute, Inc.', 'contact': [{'name': 'Regenstrief Institute, Inc.', 'telecom': [{'system': 'url', 'value': 'https://loinc.org'}]}], 'copyright': 'This material contains content from LOINC (http://loinc.org). LOINC is copyright ©1995-2022, Regenstrief Institute, Inc. and the Logical Observation Identifiers Names and Codes (LOINC) Committee and is available at no cost under the license at http://loinc.org/license. LOINC® is a registered United States trademark of Regenstrief Institute, Inc.', 'compose': {'include': [{'system': 'http://loinc.org', 'concept': [{'code': 'LA137-2', 'display': 'None'}, {'code': 'LA6752-5', 'display': 'Mild'}, {'code': 'LA6751-7', 'display': 'Moderate'}, {'code': 'LA6750-9', 'display': 'Severe'}, {'code': 'LA13958-6', 'display': 'Very severe'}]}]}}, 'search': {'mode': 'match'}}, {'fullUrl': 'http://localhost:8001/fhir/ValueSet/LL1016-6', 'resource': {'resourceType': 'ValueSet', 'id': 'LL1016-6', 'meta': {'versionId': '1', 'lastUpdated': '2022-12-16T14:50:54.897-07:00'}, 'url': 'http://loinc.org/vs/LL1016-6', 'identifier': [{'system': 'urn:ietf:rfc:3986', 'value': 'urn:oid:1.3.6.1.4.1.12009.10.1.182'}], 'version': 'Beta.1', 'name': '[PROMIS] Never|Rarely|Sometimes|Often|Always', 'status': 'active', 'publisher': 'Regenstrief Institute, Inc.', 'contact': [{'name': 'Regenstrief Institute, Inc.', 'telecom': [{'system': 'url', 'value': 'https://loinc.org'}]}], 'copyright': 'This material contains content from LOINC (http://loinc.org). LOINC is copyright ©1995-2022, Regenstrief Institute, Inc. and the Logical Observation Identifiers Names and Codes (LOINC) Committee and is available at no cost under the license at http://loinc.org/license. LOINC® is a registered United States trademark of Regenstrief Institute, Inc.', 'compose': {'include': [{'system': 'http://loinc.org', 'concept': [{'code': 'LA6270-8', 'display': 'Never'}, {'code': 'LA10066-1', 'display': 'Rarely'}, {'code': 'LA10082-8', 'display': 'Sometimes'}, {'code': 'LA10044-8', 'display': 'Often'}, {'code': 'LA9933-8', 'display': 'Always'}]}]}}, 'search': {'mode': 'match'}}, {'fullUrl': 'http://localhost:8001/fhir/ValueSet/LL101-7', 'resource': {'resourceType': 'ValueSet', 'id': 'LL101-7', 'meta': {'versionId': '1', 'lastUpdated': '2022-12-16T14:50:54.901-07:00'}, 'url': 'http://loinc.org/vs/LL101-7', 'identifier': [{'system': 'urn:ietf:rfc:3986', 'value': 'urn:oid:1.3.6.1.4.1.12009.10.1.183'}], 'version': 'Beta.1', 'name': 'CR_1440_Reason no chemo', 'status': 'active', 'publisher': 'Regenstrief Institute, Inc.', 'contact': [{'name': 'Regenstrief Institute, Inc.', 'telecom': [{'system': 'url', 'value': 'https://loinc.org'}]}], 'copyright': 'This material contains content from LOINC (http://loinc.org). LOINC is copyright ©1995-2022, Regenstrief Institute, Inc. and the Logical Observation Identifiers Names and Codes (LOINC) Committee and is available at no cost under the license at http://loinc.org/license. LOINC® is a registered United States trademark of Regenstrief Institute, Inc.', 'compose': {'include': [{'system': 'http://loinc.org', 'concept': [{'code': 'LA4184-3', 'display': 'Chemo Not Recommended'}, {'code': 'LA4179-3', 'display': 'Chem Contraindicated'}, {'code': 'LA4394-8', 'display': 'Reason unknown'}, {'code': 'LA4389-8', 'display': 'Refused'}, {'code': 'LA4181-9', 'display': 'Chem recommended - Unknown if Admin'}, {'code': 'LA4409-4', 'display': 'Unknown if Recommended'}, {'code': 'LA4185-0', 'display': 'Chemotherapy Administered'}]}]}}, 'search': {'mode': 'match'}}, {'fullUrl': 'http://localhost:8001/fhir/ValueSet/LL1017-4', 'resource': {'resourceType': 'ValueSet', 'id': 'LL1017-4', 'meta': {'versionId': '1', 'lastUpdated': '2022-12-16T14:50:54.905-07:00'}, 'url': 'http://loinc.org/vs/LL1017-4', 'identifier': [{'system': 'urn:ietf:rfc:3986', 'value': 'urn:oid:1.3.6.1.4.1.12009.10.1.184'}], 'version': 'Beta.1', 'name': '[PROMIS] Not at all|Lit bit|Somwh|Qte bit|Ver much', 'status': 'active', 'publisher': 'Regenstrief Institute, Inc.', 'contact': [{'name': 'Regenstrief Institute, Inc.', 'telecom': [{'system': 'url', 'value': 'https://loinc.org'}]}], 'copyright': 'This material contains content from LOINC (http://loinc.org). LOINC is copyright ©1995-2022, Regenstrief Institute, Inc. and the Logical Observation Identifiers Names and Codes (LOINC) Committee and is available at no cost under the license at http://loinc.org/license. LOINC® is a registered United States trademark of Regenstrief Institute, Inc.', 'compose': {'include': [{'system': 'http://loinc.org', 'concept': [{'code': 'LA6568-5', 'display': 'Not at all'}, {'code': 'LA13863-8', 'display': 'A little bit'}, {'code': 'LA13909-9', 'display': 'Somewhat'}, {'code': 'LA13902-4', 'display': 'Quite a bit'}, {'code': 'LA13914-9', 'display': 'Very much'}]}]}}, 'search': {'mode': 'match'}}]}\n"
     ]
    }
   ],
   "source": [
    "response = client.do_hapi_get_request(\"/ValueSet?_system=http://loinc.org\", {})\n",
    "print(response)\n",
    "#for entry in response['entry']:\n",
    "#    print(entry.keys())\n",
    "#    er = entry['resource']\n",
    "#    print(er['url'])\n",
    "#    print(\"id:\" + er['id'])\n",
    "#    print(\"name:\" + er['name'])"
   ]
  },
  {
   "cell_type": "code",
   "execution_count": 87,
   "id": "05ee66d3",
   "metadata": {},
   "outputs": [
    {
     "name": "stdout",
     "output_type": "stream",
     "text": [
      "GETTING\n",
      "http://localhost:8001/fhir/ValueSet/$validate-code?url=http%3A%2F%2Floinc.org%2Fvs%2FLL1000-0&code=LA13825-7&system=http%3A%2F%2Floinc.org\n",
      "SENDING\n",
      "HTTP STATUS OK 200\n",
      "{'resourceType': 'Parameters', 'parameter': [{'name': 'result', 'valueBoolean': True}, {'name': 'message', 'valueString': 'Code validation occurred using a ValueSet expansion that was pre-calculated at 2022-12-16T14:54:12.819-07:00 (6.0 days ago)'}, {'name': 'display', 'valueString': '1 slice or 1 dinner roll'}]}\n"
     ]
    }
   ],
   "source": [
    "## Failure during REST processing: ca.uhn.fhir.rest.server.exceptions.InvalidRequestException: \n",
    "##.   HAPI-0524: Unknown search parameter \"id\" for resource type \"ValueSet\". \n",
    "## Valid search parameters for this search are: [_content, _id, _lastUpdated, _profile, _security,\n",
    "## _source, _tag, _text, code, context, context-quantity, context-type, context-type-quantity, \n",
    "## context-type-value, date, description, expansion, identifier, jurisdiction, name, publisher, \n",
    "## reference, status, title, url, version]\n",
    "\n",
    "response = client.do_hapi_get_request(\"ValueSet/$validate-code\" +\n",
    "                                      \"?url=http://loinc.org/vs/LL1000-0\" + \n",
    "                                      \"&code=LA13825-7\" + \n",
    "                                      \"&system=http://loinc.org\", {})\n",
    "#response = client.do_hapi_get_request(\"ValueSet/\\\"http://loinc.org/vs/LL1000-0\\\"/$validate?code=\\\"LA13825-7\\\"&system=\\\"http://loinc.org\\\"\", {})\n",
    "print(response)"
   ]
  },
  {
   "cell_type": "code",
   "execution_count": 84,
   "id": "88277a6c",
   "metadata": {},
   "outputs": [
    {
     "name": "stdout",
     "output_type": "stream",
     "text": [
      "GETTING\n",
      "http://localhost:8001/fhir/ValueSet/$expand?url=http%3A%2F%2Floinc.org%2Fvs%2FLL1000-0\n",
      "SENDING\n",
      "HTTP STATUS OK 200\n",
      "[{'system': 'http://loinc.org', 'code': 'LA13825-7', 'display': '1 slice or 1 dinner roll'}, {'system': 'http://loinc.org', 'code': 'LA13838-0', 'display': '2 slices or 2 dinner rolls'}, {'system': 'http://loinc.org', 'code': 'LA13892-7', 'display': 'More than 2 slices or 2 dinner rolls'}]\n"
     ]
    }
   ],
   "source": [
    "response = client.do_hapi_get_request(\"ValueSet/$expand?url=http://loinc.org/vs/LL1000-0\",{})\n",
    "#response = client.do_hapi_get_request(\"ValueSet/\\\"http://loinc.org/vs/LL1000-0\\\"/$validate?code=\\\"LA13825-7\\\"&system=\\\"http://loinc.org\\\"\", {})\n",
    "print(response['expansion']['contains'])"
   ]
  },
  {
   "cell_type": "code",
   "execution_count": null,
   "id": "54819b82",
   "metadata": {},
   "outputs": [],
   "source": []
  }
 ],
 "metadata": {
  "kernelspec": {
   "display_name": "Python 3 (ipykernel)",
   "language": "python",
   "name": "python3"
  },
  "language_info": {
   "codemirror_mode": {
    "name": "ipython",
    "version": 3
   },
   "file_extension": ".py",
   "mimetype": "text/x-python",
   "name": "python",
   "nbconvert_exporter": "python",
   "pygments_lexer": "ipython3",
   "version": "3.9.6"
  }
 },
 "nbformat": 4,
 "nbformat_minor": 5
}
